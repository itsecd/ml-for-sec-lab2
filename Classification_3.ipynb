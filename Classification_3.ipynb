{
 "cells": [
  {
   "attachments": {},
   "cell_type": "markdown",
   "metadata": {},
   "source": [
    "## Лабораторная работа №2. Методы стеганоанализа\n",
    "Выполнили:\n",
    "- Килбас И.А., группа 6231-010402D\n",
    "- Мухин А.В., группа 6233-010402D\n",
    "\n",
    "## Вариант\n",
    "- НЗБ встраивание {запись по псевдослучайным координатам}, {1 битовая плоскость}. Релевантные функции:\n",
    "    - `get_1_binary_plane`, `insert_noise`\n",
    "- Собственный набор признаков. Используются отсчеты дискретного преобразования Фурье. Релевантные функции:\n",
    "    - `extract_features`\n"
   ]
  },
  {
   "cell_type": "code",
   "execution_count": 34,
   "metadata": {},
   "outputs": [],
   "source": [
    "import numpy as np\n",
    "import pandas as pd\n",
    "import matplotlib.pyplot as plt\n",
    "import seaborn as sns\n",
    "\n",
    "from sklearn.model_selection import train_test_split\n",
    "from sklearn.metrics import classification_report, precision_recall_fscore_support, f1_score, accuracy_score\n",
    "from sklearn.preprocessing import StandardScaler\n",
    "\n",
    "import re\n",
    "import os\n",
    "\n",
    "SEED = 321"
   ]
  },
  {
   "cell_type": "code",
   "execution_count": 35,
   "metadata": {},
   "outputs": [],
   "source": [
    "from sklearn.linear_model import LogisticRegression, PassiveAggressiveClassifier\n",
    "from sklearn.discriminant_analysis import LinearDiscriminantAnalysis\n",
    "from sklearn.neural_network import MLPClassifier\n",
    "from sklearn.naive_bayes import GaussianNB\n",
    "from sklearn.tree import DecisionTreeClassifier\n",
    "from sklearn.svm import SVC\n",
    "from sklearn.neighbors import KNeighborsClassifier"
   ]
  },
  {
   "cell_type": "code",
   "execution_count": 36,
   "metadata": {},
   "outputs": [],
   "source": [
    "def load_data(q):\n",
    "    X = np.load(f'features_data/features_{q}.npy')\n",
    "    Y = np.load(f'features_data/labels_{q}.npy')\n",
    "\n",
    "    scaler = StandardScaler()\n",
    "    X = scaler.fit_transform(X)\n",
    "\n",
    "    X_train, X_test, y_train, y_test = train_test_split(X, Y, test_size=0.3, random_state=SEED)\n",
    "    return X_train, X_test, y_train, y_test"
   ]
  },
  {
   "cell_type": "code",
   "execution_count": 37,
   "metadata": {},
   "outputs": [],
   "source": [
    "experiment_model_selection = [\n",
    "    (LogisticRegression, { \"max_iter\": 1000, \"solver\": 'lbfgs' }),\n",
    "    (LogisticRegression, { \"max_iter\": 1000, \"solver\": 'liblinear' }),\n",
    "    (LogisticRegression, { \"max_iter\": 1000, \"solver\": 'saga' }),\n",
    "    (GaussianNB, {}),\n",
    "    (DecisionTreeClassifier, { \"criterion\": \"gini\" }),\n",
    "    (DecisionTreeClassifier, { \"criterion\": \"entropy\" }),\n",
    "    (DecisionTreeClassifier, { \"criterion\": \"log_loss\" }),\n",
    "    (PassiveAggressiveClassifier, { \"max_iter\": 1000, \"C\": 1.0}),\n",
    "    (LinearDiscriminantAnalysis, {}),\n",
    "    (SVC, { \"kernel\": \"linear\" }),\n",
    "    (SVC, { \"kernel\": \"poly\" }),\n",
    "    (SVC, { \"kernel\": \"rbf\" }),\n",
    "    (KNeighborsClassifier, { \"n_neighbors\": 2 }),\n",
    "    (KNeighborsClassifier, { \"n_neighbors\": 4 }),\n",
    "    (KNeighborsClassifier, { \"n_neighbors\": 8 }),\n",
    "    (KNeighborsClassifier, { \"n_neighbors\": 16 }),\n",
    "    (MLPClassifier, { \"hidden_layer_sizes\": (64, ) }),\n",
    "    (MLPClassifier, { \"hidden_layer_sizes\": (128, ) }),\n",
    "    (MLPClassifier, { \"hidden_layer_sizes\": (256, ) }),\n",
    "    (MLPClassifier, { \"hidden_layer_sizes\": (16, 16) }),\n",
    "    (MLPClassifier, { \"hidden_layer_sizes\": (32, 32) }),\n",
    "    (MLPClassifier, { \"hidden_layer_sizes\": (16, 32, 16) }),\n",
    "    (MLPClassifier, { \"hidden_layer_sizes\": (64, 32, 16) }),\n",
    "    (MLPClassifier, { \"hidden_layer_sizes\": (32, 32, 32) }),\n",
    "    (MLPClassifier, { \"hidden_layer_sizes\": (16, 32, 32, 16) }),\n",
    "    (MLPClassifier, { \"hidden_layer_sizes\": (32, 64, 64, 32) }),\n",
    "    (MLPClassifier, { \"hidden_layer_sizes\": (128, 64, 64, 32) }),\n",
    "]"
   ]
  },
  {
   "cell_type": "code",
   "execution_count": 38,
   "metadata": {},
   "outputs": [],
   "source": [
    "def beautify_model_name(name):\n",
    "    return re.findall(r\"\\.\\w+\", name)[-1][1:]\n",
    "\n",
    "def test_model_with_params(X_train, X_test, y_train, y_test, model, params):\n",
    "    model_instance = model(**params)\n",
    "    model_instance = model_instance.fit(X_train, y_train)\n",
    "    return model_instance.predict(X_train), model_instance.predict(X_test)\n",
    "\n",
    "def experiment_runner(X_train, X_test, y_train, y_test):\n",
    "    results = []\n",
    "    for model, params in experiment_model_selection:\n",
    "        print('Running', str(model), 'with parameters', str(params))\n",
    "        preds_train, preds_test = test_model_with_params(X_train, X_test, y_train, y_test, model, params)\n",
    "        metrics_train = (accuracy_score(y_train, preds_train), f1_score(y_train, preds_train, average='binary'))\n",
    "        metrics_test = (accuracy_score(y_test, preds_test), f1_score(y_test, preds_test, average='binary'))\n",
    "        results.append((f'{beautify_model_name(str(model))} {params}', {'train': metrics_train, 'test': metrics_test}))\n",
    "    return results"
   ]
  },
  {
   "cell_type": "code",
   "execution_count": 39,
   "metadata": {},
   "outputs": [],
   "source": [
    "columns = pd.MultiIndex.from_product([['train', 'test'], ['accuracy', 'f1score']])\n",
    "index = [f'{beautify_model_name(str(name))} {params}' for name, params in experiment_model_selection]\n",
    "\n",
    "def make_dataframe(r):\n",
    "    x = [np.concatenate([v[:3] for k, v in single_measurement.items()]) for name, single_measurement in r]\n",
    "    index = [name for name, single_measurement in r]\n",
    "    df = pd.DataFrame.from_records(x, index=index, columns=columns).sort_values(by=[('test', 'accuracy')], ascending=False)\n",
    "    return df"
   ]
  },
  {
   "cell_type": "code",
   "execution_count": 40,
   "metadata": {},
   "outputs": [],
   "source": [
    "%%capture \n",
    "# Line above was added just to prevent any output\n",
    "dfs = []\n",
    "qs = [0.2, 0.4, 0.6, 0.8, 1.0]\n",
    "\n",
    "for q in qs:\n",
    "    data = load_data(q)\n",
    "    r = experiment_runner(*data)\n",
    "    df = make_dataframe(r)\n",
    "    df.to_csv(os.path.join('results', f'q={q}.csv'))\n",
    "    dfs.append(df)"
   ]
  },
  {
   "cell_type": "code",
   "execution_count": 41,
   "metadata": {},
   "outputs": [
    {
     "data": {
      "image/png": "[encoded data removed]",
      "text/plain": [
       "<Figure size 1000x500 with 2 Axes>"
      ]
     },
     "metadata": {},
     "output_type": "display_data"
    }
   ],
   "source": [
    "selected_model = \"SVC {'kernel': 'rbf'}\"\n",
    "selected_model_results = pd.DataFrame(columns=['q', 'accuracy', 'f1score'])\n",
    "\n",
    "for idx, (df, q) in enumerate(zip(dfs, qs)):\n",
    "    row = df.loc[selected_model]\n",
    "    row['test', 'q'] = q\n",
    "    selected_model_results.loc[idx] = row['test']\n",
    "\n",
    "sns.set_theme()\n",
    "fig, (ax1, ax2) = plt.subplots(1, 2, figsize=(10, 5))\n",
    "fig.suptitle(f\"{selected_model} results in terms of accuracy and f1\", fontsize=16)\n",
    "sns.lineplot(selected_model_results, x=\"q\", y='accuracy', ax=ax1)\n",
    "sns.lineplot(selected_model_results, x=\"q\", y='f1score', ax=ax2)\n",
    "fig.savefig(os.path.join('results', 'models_result.png'))"
   ]
  },
  {
   "attachments": {},
   "cell_type": "markdown",
   "metadata": {},
   "source": [
    "# Working zone"
   ]
  },
  {
   "cell_type": "code",
   "execution_count": 7,
   "metadata": {},
   "outputs": [],
   "source": [
    "X_train, X_test, y_train, y_test = load_data(q=0.6)"
   ]
  },
  {
   "attachments": {},
   "cell_type": "markdown",
   "metadata": {},
   "source": [
    "## Logistic regression"
   ]
  },
  {
   "cell_type": "code",
   "execution_count": 8,
   "metadata": {},
   "outputs": [],
   "source": [
    "model = LogisticRegression(max_iter=1000, solver='lbfgs').fit(X_train, y_train)\n",
    "preds = model.predict(X_test)"
   ]
  },
  {
   "cell_type": "code",
   "execution_count": 9,
   "metadata": {},
   "outputs": [
    {
     "name": "stdout",
     "output_type": "stream",
     "text": [
      "              precision    recall  f1-score   support\n",
      "\n",
      "           0       0.67      0.75      0.71       154\n",
      "           1       0.70      0.62      0.65       146\n",
      "\n",
      "    accuracy                           0.68       300\n",
      "   macro avg       0.69      0.68      0.68       300\n",
      "weighted avg       0.68      0.68      0.68       300\n",
      "\n"
     ]
    }
   ],
   "source": [
    "# Seems to be working\n",
    "print(classification_report(y_test, preds))"
   ]
  },
  {
   "attachments": {},
   "cell_type": "markdown",
   "metadata": {},
   "source": [
    "## MLP"
   ]
  },
  {
   "cell_type": "code",
   "execution_count": 10,
   "metadata": {},
   "outputs": [],
   "source": [
    "model = MLPClassifier(\n",
    "        max_iter=1_000,\n",
    "        hidden_layer_sizes=(16, 32, 32, 16),\n",
    "        learning_rate_init=0.001\n",
    "    ).fit(X_train, y_train)\n",
    "preds_train = model.predict(X_train)\n",
    "preds_test = model.predict(X_test)"
   ]
  },
  {
   "cell_type": "code",
   "execution_count": 11,
   "metadata": {},
   "outputs": [
    {
     "name": "stdout",
     "output_type": "stream",
     "text": [
      "              precision    recall  f1-score   support\n",
      "\n",
      "           0       1.00      1.00      1.00       346\n",
      "           1       1.00      1.00      1.00       354\n",
      "\n",
      "    accuracy                           1.00       700\n",
      "   macro avg       1.00      1.00      1.00       700\n",
      "weighted avg       1.00      1.00      1.00       700\n",
      "\n"
     ]
    }
   ],
   "source": [
    "print(classification_report(y_train, preds_train))"
   ]
  },
  {
   "cell_type": "code",
   "execution_count": 12,
   "metadata": {},
   "outputs": [
    {
     "name": "stdout",
     "output_type": "stream",
     "text": [
      "              precision    recall  f1-score   support\n",
      "\n",
      "           0       0.67      0.73      0.70       154\n",
      "           1       0.69      0.62      0.65       146\n",
      "\n",
      "    accuracy                           0.68       300\n",
      "   macro avg       0.68      0.68      0.68       300\n",
      "weighted avg       0.68      0.68      0.68       300\n",
      "\n"
     ]
    }
   ],
   "source": [
    "print(classification_report(y_test, preds_test))"
   ]
  },
  {
   "attachments": {},
   "cell_type": "markdown",
   "metadata": {},
   "source": [
    "## Bayes"
   ]
  },
  {
   "cell_type": "code",
   "execution_count": 13,
   "metadata": {},
   "outputs": [],
   "source": [
    "model = GaussianNB().fit(X_train, y_train)\n",
    "preds_train = model.predict(X_train)\n",
    "preds_test = model.predict(X_test)"
   ]
  },
  {
   "cell_type": "code",
   "execution_count": 14,
   "metadata": {},
   "outputs": [
    {
     "name": "stdout",
     "output_type": "stream",
     "text": [
      "              precision    recall  f1-score   support\n",
      "\n",
      "           0       0.56      0.95      0.70       346\n",
      "           1       0.85      0.27      0.40       354\n",
      "\n",
      "    accuracy                           0.60       700\n",
      "   macro avg       0.70      0.61      0.55       700\n",
      "weighted avg       0.70      0.60      0.55       700\n",
      "\n"
     ]
    }
   ],
   "source": [
    "print(classification_report(y_train, preds_train))"
   ]
  },
  {
   "cell_type": "code",
   "execution_count": 15,
   "metadata": {},
   "outputs": [
    {
     "name": "stdout",
     "output_type": "stream",
     "text": [
      "              precision    recall  f1-score   support\n",
      "\n",
      "           0       0.57      0.97      0.72       154\n",
      "           1       0.89      0.23      0.36       146\n",
      "\n",
      "    accuracy                           0.61       300\n",
      "   macro avg       0.73      0.60      0.54       300\n",
      "weighted avg       0.73      0.61      0.54       300\n",
      "\n"
     ]
    }
   ],
   "source": [
    "print(classification_report(y_test, preds_test))"
   ]
  },
  {
   "cell_type": "code",
   "execution_count": 16,
   "metadata": {},
   "outputs": [],
   "source": [
    "model = DecisionTreeClassifier().fit(X_train, y_train)\n",
    "preds_train = model.predict(X_train)\n",
    "preds_test = model.predict(X_test)"
   ]
  },
  {
   "cell_type": "code",
   "execution_count": 17,
   "metadata": {},
   "outputs": [
    {
     "name": "stdout",
     "output_type": "stream",
     "text": [
      "              precision    recall  f1-score   support\n",
      "\n",
      "           0       0.65      0.66      0.65       154\n",
      "           1       0.63      0.62      0.63       146\n",
      "\n",
      "    accuracy                           0.64       300\n",
      "   macro avg       0.64      0.64      0.64       300\n",
      "weighted avg       0.64      0.64      0.64       300\n",
      "\n"
     ]
    }
   ],
   "source": [
    "print(classification_report(y_test, preds_test))"
   ]
  },
  {
   "attachments": {},
   "cell_type": "markdown",
   "metadata": {},
   "source": [
    "## CNN"
   ]
  },
  {
   "cell_type": "code",
   "execution_count": 18,
   "metadata": {},
   "outputs": [],
   "source": [
    "import torch\n",
    "import torch.nn as nn\n",
    "import torch.nn.functional as F\n",
    "import torch.optim as optim\n",
    "\n",
    "import pytorch_lightning as pl"
   ]
  },
  {
   "cell_type": "code",
   "execution_count": 19,
   "metadata": {},
   "outputs": [],
   "source": [
    "class Net(nn.Module):\n",
    "    def __init__(self):\n",
    "        super(Net, self).__init__()\n",
    "        self.conv1 = nn.Conv1d(1, 6, 5)\n",
    "        self.bn1 = nn.BatchNorm1d(6)\n",
    "        self.conv2 = nn.Conv1d(6, 16, 5)\n",
    "        self.bn2 = nn.BatchNorm1d(16)\n",
    "        self.fc1 = nn.Linear(1920, 256)\n",
    "        self.fc2 = nn.Linear(256, 128)\n",
    "        self.fc3 = nn.Linear(128, 64)\n",
    "        self.fc4 = nn.Linear(64, 1)\n",
    "\n",
    "    def forward(self, x):\n",
    "        x = F.relu(self.conv1(x)) \n",
    "        x = self.bn1(x)\n",
    "        x = F.relu(self.conv2(x)) \n",
    "        x = self.bn2(x)\n",
    "        x = torch.flatten(x, start_dim=1)\n",
    "        x = F.relu(self.fc1(x))\n",
    "        x = F.relu(self.fc2(x))\n",
    "        x = F.relu(self.fc3(x))\n",
    "        x = self.fc4(x)\n",
    "        return torch.flatten(x)"
   ]
  },
  {
   "cell_type": "code",
   "execution_count": 20,
   "metadata": {},
   "outputs": [
    {
     "data": {
      "text/plain": [
       "tensor([0.0908, 0.0908], grad_fn=<ReshapeAliasBackward0>)"
      ]
     },
     "execution_count": 20,
     "metadata": {},
     "output_type": "execute_result"
    }
   ],
   "source": [
    "# Sanity check\n",
    "Net()(torch.zeros((2, 1, 128)))"
   ]
  },
  {
   "cell_type": "code",
   "execution_count": 26,
   "metadata": {},
   "outputs": [],
   "source": [
    "class LightningModule(pl.LightningModule):\n",
    "    def __init__(self, model, loss, lr=1e-3, T_0=10, T_mult=2):\n",
    "        super().__init__()\n",
    "        self.model = model\n",
    "        self.lr = lr\n",
    "        self.T_0 = T_0\n",
    "        self.T_mult = T_mult\n",
    "        self.loss = loss\n",
    "\n",
    "    def forward(self, x):\n",
    "        out = self.model(x)\n",
    "        return out\n",
    "\n",
    "    def predict_step(self, batch, batch_idx, dataloader_idx=0):\n",
    "        signal, label = batch\n",
    "        return self(signal)\n",
    "\n",
    "    def validation_step(self, batch, batch_idx):\n",
    "        signal, label = batch\n",
    "        preds = torch.sigmoid(self(signal)) > 0.5\n",
    "        return f1_score(preds.cpu().numpy(), label.cpu().numpy())\n",
    "\n",
    "    def validation_epoch_end(self, outputs):\n",
    "        print(np.mean(outputs))\n",
    "\n",
    "    def configure_optimizers(self):\n",
    "        print(f'Init optimizer with params: lr={self.lr}, T_0={self.T_0}, T_mult={self.T_mult}')\n",
    "        optimizer = optim.Adam( \n",
    "            self.parameters(), lr=self.lr\n",
    "        )\n",
    "\n",
    "        lr_scheduler = optim.lr_scheduler.CosineAnnealingWarmRestarts(\n",
    "            optimizer, \n",
    "            T_0=self.T_0, T_mult=self.T_mult, eta_min=0\n",
    "        )\n",
    "        return { \"optimizer\": optimizer, \"lr_scheduler\": lr_scheduler }\n",
    "\n",
    "    def training_step(self, train_batch, batch_idx):\n",
    "        signal, label = train_batch\n",
    "        preds = self.model(signal)\n",
    "        loss = self.loss(preds, label)\n",
    "        self.log(\"train_loss\", loss, on_step=False, on_epoch=True, prog_bar=True)\n",
    "        return loss\n"
   ]
  },
  {
   "cell_type": "code",
   "execution_count": 27,
   "metadata": {},
   "outputs": [],
   "source": [
    "train_datset = [(f, l) for f, l in zip(X_train[::, np.newaxis, ::], y_train.astype(np.float32))]\n",
    "train_dataloader = torch.utils.data.DataLoader(train_datset, batch_size=64)\n",
    "\n",
    "test_datset = [(f, l) for f, l in zip(X_test[::, np.newaxis, ::], y_test.astype(np.float32))]\n",
    "test_dataloader = torch.utils.data.DataLoader(test_datset, batch_size=64)"
   ]
  },
  {
   "cell_type": "code",
   "execution_count": 28,
   "metadata": {},
   "outputs": [
    {
     "name": "stderr",
     "output_type": "stream",
     "text": [
      "GPU available: True (cuda), used: True\n",
      "TPU available: False, using: 0 TPU cores\n",
      "IPU available: False, using: 0 IPUs\n",
      "HPU available: False, using: 0 HPUs\n",
      "c:\\Users\\artem\\miniconda3\\envs\\default\\lib\\site-packages\\pytorch_lightning\\trainer\\configuration_validator.py:108: PossibleUserWarning: You defined a `validation_step` but have no `val_dataloader`. Skipping val loop.\n",
      "  rank_zero_warn(\n",
      "LOCAL_RANK: 0 - CUDA_VISIBLE_DEVICES: [0]\n",
      "\n",
      "  | Name  | Type              | Params\n",
      "--------------------------------------------\n",
      "0 | model | Net               | 533 K \n",
      "1 | loss  | BCEWithLogitsLoss | 0     \n",
      "--------------------------------------------\n",
      "533 K     Trainable params\n",
      "0         Non-trainable params\n",
      "533 K     Total params\n",
      "2.134     Total estimated model params size (MB)\n"
     ]
    },
    {
     "name": "stdout",
     "output_type": "stream",
     "text": [
      "Init optimizer with params: lr=0.001, T_0=10, T_mult=2\n"
     ]
    },
    {
     "name": "stderr",
     "output_type": "stream",
     "text": [
      "c:\\Users\\artem\\miniconda3\\envs\\default\\lib\\site-packages\\pytorch_lightning\\trainer\\connectors\\data_connector.py:224: PossibleUserWarning: The dataloader, train_dataloader, does not have many workers which may be a bottleneck. Consider increasing the value of the `num_workers` argument` (try 20 which is the number of cpus on this machine) in the `DataLoader` init to improve performance.\n",
      "  rank_zero_warn(\n",
      "c:\\Users\\artem\\miniconda3\\envs\\default\\lib\\site-packages\\pytorch_lightning\\trainer\\trainer.py:1558: PossibleUserWarning: The number of training batches (11) is smaller than the logging interval Trainer(log_every_n_steps=50). Set a lower value for log_every_n_steps if you want to see logs for the training epoch.\n",
      "  rank_zero_warn(\n"
     ]
    },
    {
     "data": {
      "application/vnd.jupyter.widget-view+json": {
       "model_id": "2cd2d42ddc2045198b15671333c6df54",
       "version_major": 2,
       "version_minor": 0
      },
      "text/plain": [
       "Training: 0it [00:00, ?it/s]"
      ]
     },
     "metadata": {},
     "output_type": "display_data"
    },
    {
     "name": "stderr",
     "output_type": "stream",
     "text": [
      "`Trainer.fit` stopped: `max_epochs=100` reached.\n"
     ]
    }
   ],
   "source": [
    "net = Net()\n",
    "loss = nn.BCEWithLogitsLoss()\n",
    "model = LightningModule(net, loss, lr=1e-3)\n",
    "trainer = pl.Trainer(max_epochs=100, devices=1, accelerator=\"gpu\")\n",
    "trainer.fit(model=model, train_dataloaders=train_dataloader)"
   ]
  },
  {
   "cell_type": "code",
   "execution_count": 29,
   "metadata": {},
   "outputs": [
    {
     "name": "stderr",
     "output_type": "stream",
     "text": [
      "LOCAL_RANK: 0 - CUDA_VISIBLE_DEVICES: [0]\n",
      "c:\\Users\\artem\\miniconda3\\envs\\default\\lib\\site-packages\\pytorch_lightning\\trainer\\connectors\\data_connector.py:224: PossibleUserWarning: The dataloader, val_dataloader 0, does not have many workers which may be a bottleneck. Consider increasing the value of the `num_workers` argument` (try 20 which is the number of cpus on this machine) in the `DataLoader` init to improve performance.\n",
      "  rank_zero_warn(\n"
     ]
    },
    {
     "data": {
      "application/vnd.jupyter.widget-view+json": {
       "model_id": "11f5bdc4082a4db6b326c72b1eec9f74",
       "version_major": 2,
       "version_minor": 0
      },
      "text/plain": [
       "Validation: 0it [00:00, ?it/s]"
      ]
     },
     "metadata": {},
     "output_type": "display_data"
    },
    {
     "name": "stderr",
     "output_type": "stream",
     "text": [
      "LOCAL_RANK: 0 - CUDA_VISIBLE_DEVICES: [0]\n"
     ]
    },
    {
     "name": "stdout",
     "output_type": "stream",
     "text": [
      "0.6723922029006776\n"
     ]
    },
    {
     "name": "stderr",
     "output_type": "stream",
     "text": [
      "c:\\Users\\artem\\miniconda3\\envs\\default\\lib\\site-packages\\pytorch_lightning\\trainer\\connectors\\data_connector.py:224: PossibleUserWarning: The dataloader, val_dataloader 0, does not have many workers which may be a bottleneck. Consider increasing the value of the `num_workers` argument` (try 20 which is the number of cpus on this machine) in the `DataLoader` init to improve performance.\n",
      "  rank_zero_warn(\n"
     ]
    },
    {
     "data": {
      "application/vnd.jupyter.widget-view+json": {
       "model_id": "44ba76afcf9448f09a47c8bef150d936",
       "version_major": 2,
       "version_minor": 0
      },
      "text/plain": [
       "Validation: 0it [00:00, ?it/s]"
      ]
     },
     "metadata": {},
     "output_type": "display_data"
    },
    {
     "name": "stdout",
     "output_type": "stream",
     "text": [
      "1.0\n"
     ]
    },
    {
     "data": {
      "text/plain": [
       "([{}], [{}])"
      ]
     },
     "execution_count": 29,
     "metadata": {},
     "output_type": "execute_result"
    }
   ],
   "source": [
    "trainer.validate(model, test_dataloader), trainer.validate(model, train_dataloader)"
   ]
  },
  {
   "cell_type": "code",
   "execution_count": null,
   "metadata": {},
   "outputs": [],
   "source": []
  }
 ],
 "metadata": {
  "kernelspec": {
   "display_name": "default",
   "language": "python",
   "name": "python3"
  },
  "language_info": {
   "codemirror_mode": {
    "name": "ipython",
    "version": 3
   },
   "file_extension": ".py",
   "mimetype": "text/x-python",
   "name": "python",
   "nbconvert_exporter": "python",
   "pygments_lexer": "ipython3",
   "version": "3.10.6"
  },
  "orig_nbformat": 4,
  "vscode": {
   "interpreter": {
    "hash": "b271f23aecf09abdcfdc0f9b143a8286a68433060c2955eee7350b9debdbd7c3"
   }
  }
 },
 "nbformat": 4,
 "nbformat_minor": 2
}
