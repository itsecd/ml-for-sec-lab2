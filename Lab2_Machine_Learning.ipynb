{
 "cells": [
  {
   "cell_type": "markdown",
   "id": "09cf2240",
   "metadata": {},
   "source": [
    "### Лабораторная работа №2. Методы стеганоанализа\n",
    "\n",
    "Пчелкина Ю.Ж., группа 6231-010402D\n",
    "\n",
    "Чаплыгин А.О., группа 6231-010402D\n",
    "\n",
    "\n",
    "\n"
   ]
  },
  {
   "cell_type": "markdown",
   "id": "0347c187",
   "metadata": {},
   "source": [
    "#### Обучение\n",
    "\n",
    "3. Произвести обучение классификатора (модель классификатора выбрать самостоятельно) по выборке, содержащей первые 70 % изображений каждого из двух типов (со встраиванием и без. То есть общий объём обучающей выборки составляет 𝐾∙0,7.\n",
    "\n",
    "\n",
    "4. Применить обученный классификатор на оставшихся 30 % изображений и оценить качество классификации по мере Accuracy. Вывести результат в виде графиков зависимости Accuracy от 𝑞.\n",
    "\n",
    "\n",
    "5. Повторить пп. 2-4 для других значений 𝑞 и (при желании) для других векторов признаков.\n"
   ]
  },
  {
   "cell_type": "code",
   "execution_count": 1,
   "id": "b9295a1e",
   "metadata": {},
   "outputs": [],
   "source": [
    "import cv2\n",
    "import numpy as np\n",
    "import matplotlib.pyplot as plt\n",
    "%matplotlib inline\n",
    "\n",
    "import pandas as pd\n",
    "import numpy as np\n",
    "import seaborn as sns\n",
    "\n",
    "from sklearn.model_selection import train_test_split\n",
    "from sklearn.svm import SVC\n",
    "from catboost import CatBoostClassifier\n",
    "from sklearn.neighbors import KNeighborsClassifier\n",
    "from sklearn.tree import DecisionTreeClassifier\n",
    "from sklearn.ensemble import RandomForestClassifier\n",
    "from sklearn.naive_bayes import MultinomialNB\n",
    "from sklearn.linear_model import LogisticRegression\n",
    "from sklearn.discriminant_analysis import LinearDiscriminantAnalysis as LDA\n",
    "\n",
    "\n",
    "\n",
    "from sklearn.metrics import confusion_matrix, classification_report, f1_score, accuracy_score, roc_curve, plot_confusion_matrix\n",
    "\n",
    "from sklearn.pipeline import Pipeline\n",
    "from sklearn.preprocessing import StandardScaler\n",
    "from sklearn.preprocessing import MinMaxScaler\n",
    "\n",
    "from sklearn.model_selection import GridSearchCV"
   ]
  },
  {
   "cell_type": "code",
   "execution_count": 2,
   "id": "90c1dde2",
   "metadata": {},
   "outputs": [
    {
     "data": {
      "text/html": [
       "<div>\n",
       "<style scoped>\n",
       "    .dataframe tbody tr th:only-of-type {\n",
       "        vertical-align: middle;\n",
       "    }\n",
       "\n",
       "    .dataframe tbody tr th {\n",
       "        vertical-align: top;\n",
       "    }\n",
       "\n",
       "    .dataframe thead th {\n",
       "        text-align: right;\n",
       "    }\n",
       "</style>\n",
       "<table border=\"1\" class=\"dataframe\">\n",
       "  <thead>\n",
       "    <tr style=\"text-align: right;\">\n",
       "      <th></th>\n",
       "      <th>Image Name</th>\n",
       "      <th>series length 1</th>\n",
       "      <th>series length 2</th>\n",
       "      <th>series length 3</th>\n",
       "      <th>series length 4</th>\n",
       "      <th>series length 5</th>\n",
       "      <th>series length 6</th>\n",
       "      <th>series length 7</th>\n",
       "      <th>series length 8</th>\n",
       "      <th>series length 9</th>\n",
       "      <th>series length 10</th>\n",
       "      <th>series length 11</th>\n",
       "      <th>series length 12</th>\n",
       "      <th>with message</th>\n",
       "    </tr>\n",
       "  </thead>\n",
       "  <tbody>\n",
       "    <tr>\n",
       "      <th>0</th>\n",
       "      <td>Image00001.tif</td>\n",
       "      <td>64361.0</td>\n",
       "      <td>32376.0</td>\n",
       "      <td>16232.0</td>\n",
       "      <td>8222.0</td>\n",
       "      <td>4230.0</td>\n",
       "      <td>2093.0</td>\n",
       "      <td>1120.0</td>\n",
       "      <td>549.0</td>\n",
       "      <td>263.0</td>\n",
       "      <td>122.0</td>\n",
       "      <td>84.0</td>\n",
       "      <td>36.0</td>\n",
       "      <td>1.0</td>\n",
       "    </tr>\n",
       "    <tr>\n",
       "      <th>1</th>\n",
       "      <td>Image00002.tif</td>\n",
       "      <td>62423.0</td>\n",
       "      <td>30236.0</td>\n",
       "      <td>15240.0</td>\n",
       "      <td>8071.0</td>\n",
       "      <td>4160.0</td>\n",
       "      <td>2285.0</td>\n",
       "      <td>1279.0</td>\n",
       "      <td>727.0</td>\n",
       "      <td>388.0</td>\n",
       "      <td>225.0</td>\n",
       "      <td>152.0</td>\n",
       "      <td>82.0</td>\n",
       "      <td>1.0</td>\n",
       "    </tr>\n",
       "    <tr>\n",
       "      <th>2</th>\n",
       "      <td>Image00003.tif</td>\n",
       "      <td>60811.0</td>\n",
       "      <td>29973.0</td>\n",
       "      <td>15297.0</td>\n",
       "      <td>7937.0</td>\n",
       "      <td>4125.0</td>\n",
       "      <td>2267.0</td>\n",
       "      <td>1262.0</td>\n",
       "      <td>780.0</td>\n",
       "      <td>463.0</td>\n",
       "      <td>271.0</td>\n",
       "      <td>180.0</td>\n",
       "      <td>115.0</td>\n",
       "      <td>1.0</td>\n",
       "    </tr>\n",
       "    <tr>\n",
       "      <th>3</th>\n",
       "      <td>Image00004.tif</td>\n",
       "      <td>62175.0</td>\n",
       "      <td>30092.0</td>\n",
       "      <td>15110.0</td>\n",
       "      <td>7825.0</td>\n",
       "      <td>4243.0</td>\n",
       "      <td>2248.0</td>\n",
       "      <td>1226.0</td>\n",
       "      <td>727.0</td>\n",
       "      <td>402.0</td>\n",
       "      <td>280.0</td>\n",
       "      <td>172.0</td>\n",
       "      <td>119.0</td>\n",
       "      <td>1.0</td>\n",
       "    </tr>\n",
       "    <tr>\n",
       "      <th>4</th>\n",
       "      <td>Image00005.tif</td>\n",
       "      <td>65390.0</td>\n",
       "      <td>32904.0</td>\n",
       "      <td>16220.0</td>\n",
       "      <td>8204.0</td>\n",
       "      <td>4108.0</td>\n",
       "      <td>2084.0</td>\n",
       "      <td>935.0</td>\n",
       "      <td>595.0</td>\n",
       "      <td>261.0</td>\n",
       "      <td>127.0</td>\n",
       "      <td>57.0</td>\n",
       "      <td>30.0</td>\n",
       "      <td>1.0</td>\n",
       "    </tr>\n",
       "  </tbody>\n",
       "</table>\n",
       "</div>"
      ],
      "text/plain": [
       "       Image Name  series length 1  series length 2  series length 3  \\\n",
       "0  Image00001.tif          64361.0          32376.0          16232.0   \n",
       "1  Image00002.tif          62423.0          30236.0          15240.0   \n",
       "2  Image00003.tif          60811.0          29973.0          15297.0   \n",
       "3  Image00004.tif          62175.0          30092.0          15110.0   \n",
       "4  Image00005.tif          65390.0          32904.0          16220.0   \n",
       "\n",
       "   series length 4  series length 5  series length 6  series length 7  \\\n",
       "0           8222.0           4230.0           2093.0           1120.0   \n",
       "1           8071.0           4160.0           2285.0           1279.0   \n",
       "2           7937.0           4125.0           2267.0           1262.0   \n",
       "3           7825.0           4243.0           2248.0           1226.0   \n",
       "4           8204.0           4108.0           2084.0            935.0   \n",
       "\n",
       "   series length 8  series length 9  series length 10  series length 11  \\\n",
       "0            549.0            263.0             122.0              84.0   \n",
       "1            727.0            388.0             225.0             152.0   \n",
       "2            780.0            463.0             271.0             180.0   \n",
       "3            727.0            402.0             280.0             172.0   \n",
       "4            595.0            261.0             127.0              57.0   \n",
       "\n",
       "   series length 12  with message  \n",
       "0              36.0           1.0  \n",
       "1              82.0           1.0  \n",
       "2             115.0           1.0  \n",
       "3             119.0           1.0  \n",
       "4              30.0           1.0  "
      ]
     },
     "execution_count": 2,
     "metadata": {},
     "output_type": "execute_result"
    }
   ],
   "source": [
    "df = pd.read_csv('LSB_50.csv')\n",
    "df.head()"
   ]
  },
  {
   "cell_type": "markdown",
   "id": "0d57679c",
   "metadata": {},
   "source": [
    "#### Логистическая регрессия"
   ]
  },
  {
   "cell_type": "code",
   "execution_count": 3,
   "id": "e621993d",
   "metadata": {},
   "outputs": [
    {
     "name": "stdout",
     "output_type": "stream",
     "text": [
      "F1:  0.8228228228228228\n",
      "accuracy:  0.8033333333333333\n"
     ]
    }
   ],
   "source": [
    "# Классификатор LogisticRegression на полном наборе признаков\n",
    "\n",
    "df_new = df.drop(columns = ['Image Name'])\n",
    "\n",
    "\n",
    "# Разделим набор данных на независимые и зависимые переменные. Сохраняем как массив\n",
    "X = df_new.drop('with message', axis = 1)\n",
    "Y = df_new['with message']\n",
    "\n",
    "# поделили на обучающую и тестовую выборки 30/70\n",
    "X_train, X_test, Y_train, Y_test = train_test_split(X, Y, test_size = 0.3, random_state = 21)\n",
    "X_train.shape, X_test.shape\n",
    "\n",
    "# Нормализуем данные\n",
    "Log = LogisticRegression()\n",
    "scaler = StandardScaler()\n",
    "X_train_M = scaler.fit_transform(X_train)\n",
    "X_test_M = scaler.transform(X_test)\n",
    "\n",
    "model_Log = LogisticRegression() \n",
    "model_Log.fit(X_train_M, Y_train)\n",
    "Y_Log = model_Log.predict(X_test_M)\n",
    "\n",
    "print('F1: ', f1_score(Y_test, Y_Log))\n",
    "print('accuracy: ', accuracy_score(Y_test, Y_Log))"
   ]
  },
  {
   "cell_type": "code",
   "execution_count": 4,
   "id": "a519ec46",
   "metadata": {},
   "outputs": [
    {
     "name": "stdout",
     "output_type": "stream",
     "text": [
      "F1:  0.7314285714285714\n",
      "accuracy:  0.6866666666666666\n"
     ]
    }
   ],
   "source": [
    "# Классификатор LogisticRegression для больших длин\n",
    "\n",
    "df_new = df.drop(columns = ['Image Name', \n",
    "                            'series length 1', 'series length 2', \n",
    "                            'series length 3', 'series length 4',\n",
    "                            'series length 5', 'series length 6',\n",
    "                            'series length 7', 'series length 8'])\n",
    "\n",
    "# Разделим набор данных на независимые и зависимые переменные. Сохраняем как массив\n",
    "X = df_new.drop('with message', axis = 1)\n",
    "Y = df_new['with message']\n",
    "\n",
    "# поделили на обучающую и тестовую выборки 30/70\n",
    "X_train, X_test, Y_train, Y_test = train_test_split(X, Y, test_size = 0.3, random_state = 21)\n",
    "X_train.shape, X_test.shape\n",
    "\n",
    "# Нормализуем данные\n",
    "Log = LogisticRegression()\n",
    "scaler = StandardScaler()\n",
    "X_train_M = scaler.fit_transform(X_train)\n",
    "X_test_M = scaler.transform(X_test)\n",
    "\n",
    "model_Log = LogisticRegression() \n",
    "model_Log.fit(X_train_M, Y_train)\n",
    "Y_Log = model_Log.predict(X_test_M)\n",
    "\n",
    "print('F1: ', f1_score(Y_test, Y_Log))\n",
    "print('accuracy: ', accuracy_score(Y_test, Y_Log))"
   ]
  },
  {
   "cell_type": "code",
   "execution_count": 5,
   "id": "2bc2dcdf",
   "metadata": {},
   "outputs": [
    {
     "name": "stdout",
     "output_type": "stream",
     "text": [
      "F1:  0.8096676737160121\n",
      "accuracy:  0.79\n"
     ]
    }
   ],
   "source": [
    "# Классификатор LogisticRegression для меньших длин\n",
    "\n",
    "df_new = df.drop(columns = ['Image Name', \n",
    "                            'series length 5',\n",
    "                            'series length 6', 'series length 7', \n",
    "                            'series length 8', 'series length 9',\n",
    "                            'series length 10', 'series length 11',\n",
    "                            'series length 12'])\n",
    "\n",
    "# Разделим набор данных на независимые и зависимые переменные. Сохраняем как массив\n",
    "X = df_new.drop('with message', axis = 1)\n",
    "Y = df_new['with message']\n",
    "\n",
    "# поделили на обучающую и тестовую выборки 30/70\n",
    "X_train, X_test, Y_train, Y_test = train_test_split(X, Y, test_size = 0.3, random_state = 21)\n",
    "X_train.shape, X_test.shape\n",
    "\n",
    "# Нормализуем данные\n",
    "Log = LogisticRegression()\n",
    "scaler = StandardScaler()\n",
    "X_train_M = scaler.fit_transform(X_train)\n",
    "X_test_M = scaler.transform(X_test)\n",
    "\n",
    "model_Log = LogisticRegression() \n",
    "model_Log.fit(X_train_M, Y_train)\n",
    "Y_Log = model_Log.predict(X_test_M)\n",
    "\n",
    "print('F1: ', f1_score(Y_test, Y_Log))\n",
    "print('accuracy: ', accuracy_score(Y_test, Y_Log))"
   ]
  },
  {
   "cell_type": "code",
   "execution_count": 6,
   "id": "647dddbb",
   "metadata": {},
   "outputs": [
    {
     "name": "stdout",
     "output_type": "stream",
     "text": [
      "F1:  0.8096676737160121\n",
      "accuracy:  0.79\n"
     ]
    }
   ],
   "source": [
    "# Только первый и последний\n",
    "\n",
    "df_title = {'low midle': [], 'high midle': [], 'with message': []}\n",
    "df_new = pd.DataFrame(df_title)\n",
    "\n",
    "df_new['low midle'] = df['series length 1']\n",
    "df_new['high midle'] = df['series length 12']\n",
    "df_new['with message'] = df['with message']\n",
    "\n",
    "# Разделим набор данных на независимые и зависимые переменные. Сохраняем как массив\n",
    "X = df_new.drop('with message', axis = 1)\n",
    "Y = df_new['with message']\n",
    "\n",
    "# поделили на обучающую и тестовую выборки 30/70\n",
    "X_train, X_test, Y_train, Y_test = train_test_split(X, Y, test_size = 0.3, random_state = 21)\n",
    "X_train.shape, X_test.shape\n",
    "\n",
    "# Нормализуем данные\n",
    "Log = LogisticRegression()\n",
    "scaler = StandardScaler()\n",
    "X_train_M = scaler.fit_transform(X_train)\n",
    "X_test_M = scaler.transform(X_test)\n",
    "\n",
    "model_Log = LogisticRegression() \n",
    "model_Log.fit(X_train_M, Y_train)\n",
    "Y_Log = model_Log.predict(X_test_M)\n",
    "\n",
    "print('F1: ', f1_score(Y_test, Y_Log))\n",
    "print('accuracy: ', accuracy_score(Y_test, Y_Log))"
   ]
  },
  {
   "cell_type": "code",
   "execution_count": 7,
   "id": "72cb8913",
   "metadata": {},
   "outputs": [
    {
     "name": "stdout",
     "output_type": "stream",
     "text": [
      "F1:  0.8059701492537313\n",
      "accuracy:  0.7833333333333333\n"
     ]
    }
   ],
   "source": [
    "# Пробуем объединять признаки. Берем среднее по 3-м маленьким длинам и среднее по 3-м большим\n",
    "\n",
    "df_title = {'low midle': [], 'high midle': [], 'with message': []}\n",
    "df_new = pd.DataFrame(df_title)\n",
    "\n",
    "df_new['low midle'] = round((df['series length 1'] + df['series length 2'] + df['series length 3'])/3)\n",
    "df_new['high midle'] = round((df['series length 10'] + df['series length 11'] + df['series length 12'])/3)\n",
    "df_new['with message'] = df['with message']\n",
    "\n",
    "# Разделим набор данных на независимые и зависимые переменные. Сохраняем как массив\n",
    "X = df_new.drop('with message', axis = 1)\n",
    "Y = df_new['with message']\n",
    "\n",
    "# поделили на обучающую и тестовую выборки 30/70\n",
    "X_train, X_test, Y_train, Y_test = train_test_split(X, Y, test_size = 0.3, random_state = 21)\n",
    "X_train.shape, X_test.shape\n",
    "\n",
    "# Нормализуем данные\n",
    "Log = LogisticRegression()\n",
    "scaler = StandardScaler()\n",
    "X_train_M = scaler.fit_transform(X_train)\n",
    "X_test_M = scaler.transform(X_test)\n",
    "\n",
    "model_Log = LogisticRegression() \n",
    "model_Log.fit(X_train_M, Y_train)\n",
    "Y_Log = model_Log.predict(X_test_M)\n",
    "\n",
    "print('F1: ', f1_score(Y_test, Y_Log))\n",
    "print('accuracy: ', accuracy_score(Y_test, Y_Log))"
   ]
  },
  {
   "cell_type": "markdown",
   "id": "c78afe1b",
   "metadata": {},
   "source": [
    "В случае логистической регрессии лучшие результаты получили при полном наборе принаков. Аccuracy =  0.81 "
   ]
  },
  {
   "cell_type": "markdown",
   "id": "4e9378ae",
   "metadata": {},
   "source": [
    "#### Метод опорных векторов (SVC)"
   ]
  },
  {
   "cell_type": "code",
   "execution_count": 8,
   "id": "45d4f79d",
   "metadata": {},
   "outputs": [
    {
     "name": "stdout",
     "output_type": "stream",
     "text": [
      "F1:  0.7857142857142858\n",
      "accuracy:  0.76\n"
     ]
    }
   ],
   "source": [
    "# Классификатор SVC на полном наборе признаков\n",
    "\n",
    "df_new = df.drop(columns = ['Image Name'])\n",
    "\n",
    "\n",
    "# Разделим набор данных на независимые и зависимые переменные. Сохраняем как массив\n",
    "X = df_new.drop('with message', axis = 1)\n",
    "Y = df_new['with message']\n",
    "\n",
    "# поделили на обучающую и тестовую выборки 30/70\n",
    "X_train, X_test, Y_train, Y_test = train_test_split(X, Y, test_size = 0.3, random_state = 21)\n",
    "X_train.shape, X_test.shape\n",
    "\n",
    "# Нормализуем данные\n",
    "scale_features_mm = MinMaxScaler()\n",
    "X_train_new = scale_features_mm.fit_transform(X_train) \n",
    "X_test_new = scale_features_mm.fit_transform(X_test)\n",
    "\n",
    "\n",
    "model_SVC = SVC()\n",
    "model_SVC.fit(X_train_new, Y_train)\n",
    "Y_SVC = model_SVC.predict(X_test_new)\n",
    "\n",
    "\n",
    "print('F1: ', f1_score(Y_test, Y_SVC))\n",
    "print('accuracy: ', accuracy_score(Y_test, Y_SVC))"
   ]
  },
  {
   "cell_type": "code",
   "execution_count": 9,
   "id": "c7059d5e",
   "metadata": {},
   "outputs": [
    {
     "name": "stdout",
     "output_type": "stream",
     "text": [
      "F1:  0.6867469879518072\n",
      "accuracy:  0.6533333333333333\n"
     ]
    }
   ],
   "source": [
    "# Классификатор SVC для больших длин\n",
    "\n",
    "df_new = df.drop(columns = ['Image Name', \n",
    "                            'series length 1', 'series length 2', \n",
    "                            'series length 3', 'series length 4',\n",
    "                            'series length 5', 'series length 6',\n",
    "                            'series length 7', 'series length 8'])\n",
    "\n",
    "\n",
    "# Разделим набор данных на независимые и зависимые переменные. Сохраняем как массив\n",
    "X = df_new.drop('with message', axis = 1)\n",
    "Y = df_new['with message']\n",
    "\n",
    "# поделили на обучающую и тестовую выборки 30/70\n",
    "X_train, X_test, Y_train, Y_test = train_test_split(X, Y, test_size = 0.3, random_state = 21)\n",
    "X_train.shape, X_test.shape\n",
    "\n",
    "# Нормализуем данные\n",
    "scale_features_mm = MinMaxScaler()\n",
    "X_train_new = scale_features_mm.fit_transform(X_train) \n",
    "X_test_new = scale_features_mm.fit_transform(X_test)\n",
    "\n",
    "model_SVC = SVC()\n",
    "model_SVC.fit(X_train_new, Y_train)\n",
    "Y_SVC = model_SVC.predict(X_test_new)\n",
    "\n",
    "print('F1: ', f1_score(Y_test, Y_SVC))\n",
    "print('accuracy: ', accuracy_score(Y_test, Y_SVC))"
   ]
  },
  {
   "cell_type": "code",
   "execution_count": 10,
   "id": "0c149b49",
   "metadata": {},
   "outputs": [
    {
     "name": "stdout",
     "output_type": "stream",
     "text": [
      "F1:  0.8138801261829655\n",
      "accuracy:  0.8033333333333333\n"
     ]
    }
   ],
   "source": [
    "# Классификатор SVC для меньших длин\n",
    "\n",
    "df_new = df.drop(columns = ['Image Name', \n",
    "                            'series length 5',\n",
    "                            'series length 6', 'series length 7', \n",
    "                            'series length 8', 'series length 9',\n",
    "                            'series length 10', 'series length 11',\n",
    "                            'series length 12'])\n",
    "\n",
    "\n",
    "# Разделим набор данных на независимые и зависимые переменные. Сохраняем как массив\n",
    "X = df_new.drop('with message', axis = 1)\n",
    "Y = df_new['with message']\n",
    "\n",
    "# поделили на обучающую и тестовую выборки 30/70\n",
    "X_train, X_test, Y_train, Y_test = train_test_split(X, Y, test_size = 0.3, random_state = 21)\n",
    "X_train.shape, X_test.shape\n",
    "\n",
    "# Нормализуем данные\n",
    "scale_features_mm = MinMaxScaler()\n",
    "X_train_new = scale_features_mm.fit_transform(X_train) \n",
    "X_test_new = scale_features_mm.fit_transform(X_test)\n",
    "\n",
    "model_SVC = SVC()\n",
    "model_SVC.fit(X_train_new, Y_train)\n",
    "Y_SVC = model_SVC.predict(X_test_new)\n",
    "\n",
    "print('F1: ', f1_score(Y_test, Y_SVC))\n",
    "print('accuracy: ', accuracy_score(Y_test, Y_SVC))"
   ]
  },
  {
   "cell_type": "code",
   "execution_count": 11,
   "id": "68d20fa1",
   "metadata": {},
   "outputs": [
    {
     "name": "stdout",
     "output_type": "stream",
     "text": [
      "F1:  0.7834394904458598\n",
      "accuracy:  0.7733333333333333\n"
     ]
    }
   ],
   "source": [
    "# Только первый и последний\n",
    "\n",
    "df_title = {'low midle': [], 'high midle': [], 'with message': []}\n",
    "df_new = pd.DataFrame(df_title)\n",
    "\n",
    "df_new['low midle'] = df['series length 1']\n",
    "df_new['high midle'] = df['series length 12']\n",
    "df_new['with message'] = df['with message']\n",
    "\n",
    "# Разделим набор данных на независимые и зависимые переменные. Сохраняем как массив\n",
    "X = df_new.drop('with message', axis = 1)\n",
    "Y = df_new['with message']\n",
    "\n",
    "# поделили на обучающую и тестовую выборки 30/70\n",
    "X_train, X_test, Y_train, Y_test = train_test_split(X, Y, test_size = 0.3, random_state = 21)\n",
    "X_train.shape, X_test.shape\n",
    "\n",
    "# Нормализуем данные\n",
    "scale_features_mm = MinMaxScaler()\n",
    "X_train_new = scale_features_mm.fit_transform(X_train) \n",
    "X_test_new = scale_features_mm.fit_transform(X_test)\n",
    "\n",
    "model_SVC = SVC()\n",
    "model_SVC.fit(X_train_new, Y_train)\n",
    "Y_SVC = model_SVC.predict(X_test_new)\n",
    "\n",
    "print('F1: ', f1_score(Y_test, Y_SVC))\n",
    "print('accuracy: ', accuracy_score(Y_test, Y_SVC))\n"
   ]
  },
  {
   "cell_type": "code",
   "execution_count": 12,
   "id": "449417b3",
   "metadata": {},
   "outputs": [
    {
     "name": "stdout",
     "output_type": "stream",
     "text": [
      "F1:  0.7672955974842768\n",
      "accuracy:  0.7533333333333333\n"
     ]
    }
   ],
   "source": [
    "# Классификатор SVM для объединенных признаков.\n",
    "\n",
    "df_title = {'low midle': [], 'high midle': [], 'with message': []}\n",
    "df_new = pd.DataFrame(df_title)\n",
    "\n",
    "df_new['low midle'] = round((df['series length 1'] + df['series length 2'] + df['series length 3'])/3)\n",
    "df_new['high midle'] = round((df['series length 10'] + df['series length 11'] + df['series length 12'])/3)\n",
    "df_new['with message'] = df['with message']\n",
    "\n",
    "# Разделим набор данных на независимые и зависимые переменные. Сохраняем как массив\n",
    "X = df_new.drop('with message', axis = 1)\n",
    "Y = df_new['with message']\n",
    "\n",
    "# поделили на обучающую и тестовую выборки 30/70\n",
    "X_train, X_test, Y_train, Y_test = train_test_split(X, Y, test_size = 0.3, random_state = 21)\n",
    "X_train.shape, X_test.shape\n",
    "\n",
    "# Нормализуем данные\n",
    "scale_features_mm = MinMaxScaler()\n",
    "X_train_new = scale_features_mm.fit_transform(X_train) \n",
    "X_test_new = scale_features_mm.fit_transform(X_test)\n",
    "\n",
    "model_SVC = SVC()\n",
    "model_SVC.fit(X_train_new, Y_train)\n",
    "Y_SVC = model_SVC.predict(X_test_new)\n",
    "\n",
    "print('F1: ', f1_score(Y_test, Y_SVC))\n",
    "print('accuracy: ', accuracy_score(Y_test, Y_SVC))\n"
   ]
  },
  {
   "cell_type": "markdown",
   "id": "ea99c980",
   "metadata": {},
   "source": [
    "В случае метода опорных векторов лучшие результаты получили при наборе принаков из для меньших длин. Аccuracy = 0.8066"
   ]
  },
  {
   "cell_type": "markdown",
   "id": "aa2854a8",
   "metadata": {},
   "source": [
    "#### Классификатор CatBoostClassifier"
   ]
  },
  {
   "cell_type": "code",
   "execution_count": 13,
   "id": "0ad872aa",
   "metadata": {},
   "outputs": [
    {
     "name": "stderr",
     "output_type": "stream",
     "text": [
      "C:\\Users\\Barova\\AppData\\Roaming\\Python\\Python38\\site-packages\\catboost\\core.py:1325: FutureWarning: iteritems is deprecated and will be removed in a future version. Use .items instead.\n",
      "  self._init_pool(data, label, cat_features, text_features, embedding_features, pairs, weight,\n"
     ]
    },
    {
     "data": {
      "text/plain": [
       "{'depth': 4, 'grow_policy': 'Lossguide', 'iterations': 20}"
      ]
     },
     "execution_count": 13,
     "metadata": {},
     "output_type": "execute_result"
    }
   ],
   "source": [
    "# Классификатор CatBoostClassifier (с подбором гиперпараметров) для меньших длин\n",
    "\n",
    "df_new = df.drop(columns = ['Image Name', \n",
    "                            'series length 5',\n",
    "                            'series length 6', 'series length 7', \n",
    "                            'series length 8', 'series length 9',\n",
    "                            'series length 10', 'series length 11',\n",
    "                            'series length 12'])\n",
    "\n",
    "\n",
    "# Разделим набор данных на независимые и зависимые переменные. Сохраняем как массив\n",
    "X = df_new.drop('with message', axis = 1)\n",
    "Y = df_new['with message']\n",
    "\n",
    "# поделили на обучающую и тестовую выборки 30/70\n",
    "X_train, X_test, Y_train, Y_test = train_test_split(X, Y, test_size = 0.3, random_state = 21)\n",
    "X_train.shape, X_test.shape\n",
    "\n",
    "# Подбираем гиперпараметры\n",
    "# depth - глубина дерева\n",
    "# grow_policy - определяет, как будет применяться жадный алгоритм поиска\n",
    "# learning_rate - скорость обучения\n",
    "\n",
    "CBC = CatBoostClassifier()\n",
    "params_CBC = \\\n",
    "     {'depth': [4,5,6,7,8,9, 10],\n",
    "     'grow_policy': ['SymmetricTree', 'Depthwise', 'Lossguide'],\n",
    "     'iterations'    : [10, 20, 50, 100, 500]}\n",
    "\n",
    "grid_search_CBC1 = GridSearchCV(estimator=CBC, param_grid = params_CBC, cv = 2)\n",
    "grid_search_CBC1.fit(X_train, Y_train, verbose = False)\n",
    "grid_search_CBC1.best_params_"
   ]
  },
  {
   "cell_type": "code",
   "execution_count": 14,
   "id": "72441813",
   "metadata": {},
   "outputs": [
    {
     "name": "stdout",
     "output_type": "stream",
     "text": [
      "F1:  0.7551020408163265\n",
      "accuracy:  0.76\n"
     ]
    }
   ],
   "source": [
    "# Обучаем модель с лучшими параметрами\n",
    "model_CBC = CatBoostClassifier(depth = grid_search_CBC1.best_params_['depth'],\n",
    "                               grow_policy = grid_search_CBC1.best_params_['grow_policy'],\n",
    "                               iterations = grid_search_CBC1.best_params_['iterations'])\n",
    "\n",
    "model_CBC.fit(X_train_new, Y_train, verbose = False)\n",
    "Y_CBC = model_CBC.predict(X_test_new)\n",
    "\n",
    "print('F1: ', f1_score(Y_test, Y_CBC))\n",
    "print('accuracy: ', accuracy_score(Y_test, Y_CBC))"
   ]
  },
  {
   "cell_type": "code",
   "execution_count": 15,
   "id": "97ac1291",
   "metadata": {},
   "outputs": [
    {
     "name": "stderr",
     "output_type": "stream",
     "text": [
      "C:\\Users\\Barova\\AppData\\Roaming\\Python\\Python38\\site-packages\\catboost\\core.py:1325: FutureWarning: iteritems is deprecated and will be removed in a future version. Use .items instead.\n",
      "  self._init_pool(data, label, cat_features, text_features, embedding_features, pairs, weight,\n"
     ]
    },
    {
     "data": {
      "text/plain": [
       "{'depth': 5, 'grow_policy': 'SymmetricTree', 'iterations': 500}"
      ]
     },
     "execution_count": 15,
     "metadata": {},
     "output_type": "execute_result"
    }
   ],
   "source": [
    "# Классификатор CatBoostClassifier для объединенных признаков.\n",
    "\n",
    "df_title = {'low midle': [], 'high midle': [], 'with message': []}\n",
    "df_new = pd.DataFrame(df_title)\n",
    "\n",
    "df_new['low midle'] = round((df['series length 1'] + df['series length 2'] + df['series length 3'])/3)\n",
    "df_new['high midle'] = round((df['series length 10'] + df['series length 11'] + df['series length 12'])/3)\n",
    "df_new['with message'] = df['with message']\n",
    "\n",
    "# Разделим набор данных на независимые и зависимые переменные. Сохраняем как массив\n",
    "X = df_new.drop('with message', axis = 1)\n",
    "Y = df_new['with message']\n",
    "\n",
    "# поделили на обучающую и тестовую выборки 30/70\n",
    "X_train, X_test, Y_train, Y_test = train_test_split(X, Y, test_size = 0.3, random_state = 21)\n",
    "X_train.shape, X_test.shape\n",
    "\n",
    "# Подбираем гиперпараметры\n",
    "CBC = CatBoostClassifier()\n",
    "params_CBC = \\\n",
    "     {'depth': [4,5,6,7,8,9, 10],\n",
    "     'grow_policy': ['SymmetricTree', 'Depthwise', 'Lossguide'],\n",
    "     'iterations'    : [10, 20, 50, 100, 500]}\n",
    "\n",
    "grid_search_CBC2 = GridSearchCV(estimator=CBC, param_grid = params_CBC, cv = 2)\n",
    "grid_search_CBC2.fit(X_train, Y_train, verbose = False)\n",
    "grid_search_CBC2.best_params_"
   ]
  },
  {
   "cell_type": "code",
   "execution_count": 16,
   "id": "a64d6c18",
   "metadata": {},
   "outputs": [
    {
     "name": "stdout",
     "output_type": "stream",
     "text": [
      "F1:  0.6589147286821705\n",
      "accuracy:  0.7066666666666667\n"
     ]
    }
   ],
   "source": [
    "# Обучаем модель с лучшими параметрами\n",
    "model_CBC = CatBoostClassifier(depth = grid_search_CBC2.best_params_['depth'],\n",
    "                               grow_policy = grid_search_CBC2.best_params_['grow_policy'],\n",
    "                               iterations = grid_search_CBC2.best_params_['iterations'])\n",
    "\n",
    "model_CBC.fit(X_train_new, Y_train, verbose = False)\n",
    "Y_CBC = model_CBC.predict(X_test_new)\n",
    "\n",
    "print('F1: ', f1_score(Y_test, Y_CBC))\n",
    "print('accuracy: ', accuracy_score(Y_test, Y_CBC))"
   ]
  },
  {
   "cell_type": "markdown",
   "id": "2697bc1b",
   "metadata": {},
   "source": [
    "В случае классификатора CatBoost лучшие результаты получили при наборе принаков из для меньших длин. Аccuracy = 0.66\n",
    "\n",
    "Параметры: depth = 4, grow_policy = Lossguide, iterations =  50"
   ]
  },
  {
   "cell_type": "markdown",
   "id": "6af3ee5f",
   "metadata": {},
   "source": [
    "#### Метод k-ближайших соседей (KNN)"
   ]
  },
  {
   "cell_type": "code",
   "execution_count": 17,
   "id": "5474dbc0",
   "metadata": {},
   "outputs": [
    {
     "data": {
      "text/plain": [
       "{'KNN__algorithm': 'auto', 'KNN__n_neighbors': 22, 'KNN__weights': 'distance'}"
      ]
     },
     "execution_count": 17,
     "metadata": {},
     "output_type": "execute_result"
    }
   ],
   "source": [
    "# Классификатор KNN для меньших длин с подбором гиперпараметров\n",
    "\n",
    "df_new = df.drop(columns = ['Image Name', \n",
    "                            'series length 5',\n",
    "                            'series length 6', 'series length 7', \n",
    "                            'series length 8', 'series length 9',\n",
    "                            'series length 10', 'series length 11',\n",
    "                            'series length 12'])\n",
    "\n",
    "\n",
    "# Разделим набор данных на независимые и зависимые переменные. Сохраняем как массив\n",
    "X = df_new.drop('with message', axis = 1)\n",
    "Y = df_new['with message']\n",
    "\n",
    "# поделили на обучающую и тестовую выборки 30/70\n",
    "X_train, X_test, Y_train, Y_test = train_test_split(X, Y, test_size = 0.3, random_state = 21)\n",
    "X_train.shape, X_test.shape\n",
    "\n",
    "# Нормализуем данные\n",
    "KNN = KNeighborsClassifier()\n",
    "scaler = StandardScaler()\n",
    "\n",
    "steps_KNN = [('normalizer', scaler), ('KNN', KNN)]\n",
    "pipe_KNN = Pipeline(steps_KNN)\n",
    "\n",
    "# Подбираем гиперпараметры\n",
    "params_KNN = \\\n",
    "     {'KNN__n_neighbors': np.arange(5, 50), \n",
    "     'KNN__weights': ['uniform', 'distance'], \n",
    "     'KNN__algorithm': ['auto', 'ball_tree', 'kd_tree', 'brute']}\n",
    "\n",
    "grid_search_KNN1 = GridSearchCV(pipe_KNN, params_KNN)\n",
    "grid_search_KNN1.fit(X_train, Y_train)\n",
    "grid_search_KNN1.best_params_"
   ]
  },
  {
   "cell_type": "code",
   "execution_count": 18,
   "id": "c560255a",
   "metadata": {},
   "outputs": [
    {
     "name": "stdout",
     "output_type": "stream",
     "text": [
      "F1:  0.8048048048048049\n",
      "accuracy:  0.7833333333333333\n"
     ]
    }
   ],
   "source": [
    "# Обучаем модель с лучшими параметрами\n",
    "model_KNN = KNeighborsClassifier(algorithm = grid_search_KNN1.best_params_['KNN__algorithm'], \n",
    "                                 n_neighbors = grid_search_KNN1.best_params_['KNN__n_neighbors'], \n",
    "                                 weights = grid_search_KNN1.best_params_['KNN__weights'])\n",
    "model_KNN.fit(X_train, Y_train)\n",
    "Y_KNN = model_KNN.predict(X_test)\n",
    "\n",
    "print('F1: ', f1_score(Y_test, Y_KNN))\n",
    "print('accuracy: ', accuracy_score(Y_test, Y_KNN))\n"
   ]
  },
  {
   "cell_type": "code",
   "execution_count": 19,
   "id": "b636b9ca",
   "metadata": {},
   "outputs": [
    {
     "data": {
      "text/plain": [
       "{'KNN__algorithm': 'auto', 'KNN__n_neighbors': 27, 'KNN__weights': 'uniform'}"
      ]
     },
     "execution_count": 19,
     "metadata": {},
     "output_type": "execute_result"
    }
   ],
   "source": [
    "# Классификатор KNN для объединенных признаков.\n",
    "\n",
    "df_title = {'low midle': [], 'high midle': [], 'with message': []}\n",
    "df_new = pd.DataFrame(df_title)\n",
    "\n",
    "df_new['low midle'] = round((df['series length 1'] + df['series length 2'] + df['series length 3'])/3)\n",
    "df_new['high midle'] = round((df['series length 10'] + df['series length 11'] + df['series length 12'])/3)\n",
    "df_new['with message'] = df['with message']\n",
    "\n",
    "# Разделим набор данных на независимые и зависимые переменные. Сохраняем как массив\n",
    "X = df_new.drop('with message', axis = 1)\n",
    "Y = df_new['with message']\n",
    "\n",
    "# поделили на обучающую и тестовую выборки 30/70\n",
    "X_train, X_test, Y_train, Y_test = train_test_split(X, Y, test_size = 0.3, random_state = 21)\n",
    "X_train.shape, X_test.shape\n",
    "\n",
    "# Нормализуем данные\n",
    "KNN = KNeighborsClassifier()\n",
    "scaler = StandardScaler()\n",
    "\n",
    "steps_KNN = [('normalizer', scaler), ('KNN', KNN)]\n",
    "pipe_KNN = Pipeline(steps_KNN)\n",
    "\n",
    "# Подбираем гиперпараметры\n",
    "params_KNN = \\\n",
    "     {'KNN__n_neighbors': np.arange(5, 50), \n",
    "     'KNN__weights': ['uniform', 'distance'], \n",
    "     'KNN__algorithm': ['auto', 'ball_tree', 'kd_tree', 'brute']}\n",
    "\n",
    "grid_search_KNN2 = GridSearchCV(pipe_KNN, params_KNN)\n",
    "grid_search_KNN2.fit(X_train, Y_train)\n",
    "grid_search_KNN2.best_params_"
   ]
  },
  {
   "cell_type": "code",
   "execution_count": 20,
   "id": "42e65f43",
   "metadata": {},
   "outputs": [
    {
     "name": "stdout",
     "output_type": "stream",
     "text": [
      "F1:  0.7859237536656892\n",
      "accuracy:  0.7566666666666667\n"
     ]
    }
   ],
   "source": [
    "# Обучаем модель с лучшими параметрами\n",
    "model_KNN = KNeighborsClassifier(algorithm = grid_search_KNN2.best_params_['KNN__algorithm'], \n",
    "                                 n_neighbors = grid_search_KNN2.best_params_['KNN__n_neighbors'], \n",
    "                                 weights = grid_search_KNN2.best_params_['KNN__weights'])\n",
    "model_KNN.fit(X_train, Y_train)\n",
    "Y_KNN = model_KNN.predict(X_test)\n",
    "\n",
    "print('F1: ', f1_score(Y_test, Y_KNN))\n",
    "print('accuracy: ', accuracy_score(Y_test, Y_KNN))"
   ]
  },
  {
   "cell_type": "code",
   "execution_count": 21,
   "id": "6d49c6e6",
   "metadata": {},
   "outputs": [
    {
     "data": {
      "text/plain": [
       "{'KNN__algorithm': 'auto', 'KNN__n_neighbors': 26, 'KNN__weights': 'distance'}"
      ]
     },
     "execution_count": 21,
     "metadata": {},
     "output_type": "execute_result"
    }
   ],
   "source": [
    "# Классификатор KNN на полном наборе признаков.\n",
    "\n",
    "df_new = df.drop(columns = ['Image Name'])\n",
    "\n",
    "# Разделим набор данных на независимые и зависимые переменные. Сохраняем как массив\n",
    "X = df_new.drop('with message', axis = 1)\n",
    "Y = df_new['with message']\n",
    "\n",
    "# поделили на обучающую и тестовую выборки 30/70\n",
    "X_train, X_test, Y_train, Y_test = train_test_split(X, Y, test_size = 0.3, random_state = 21)\n",
    "X_train.shape, X_test.shape\n",
    "\n",
    "# Нормализуем данные\n",
    "KNN = KNeighborsClassifier()\n",
    "scaler = StandardScaler()\n",
    "\n",
    "steps_KNN = [('normalizer', scaler), ('KNN', KNN)]\n",
    "pipe_KNN = Pipeline(steps_KNN)\n",
    "\n",
    "# Подбираем гиперпараметры\n",
    "params_KNN = \\\n",
    "     {'KNN__n_neighbors': np.arange(5, 50), \n",
    "     'KNN__weights': ['uniform', 'distance'], \n",
    "     'KNN__algorithm': ['auto', 'ball_tree', 'kd_tree', 'brute']}\n",
    "\n",
    "grid_search_KNN3 = GridSearchCV(pipe_KNN, params_KNN)\n",
    "grid_search_KNN3.fit(X_train, Y_train)\n",
    "grid_search_KNN3.best_params_"
   ]
  },
  {
   "cell_type": "code",
   "execution_count": 22,
   "id": "9ee89c0d",
   "metadata": {},
   "outputs": [
    {
     "name": "stdout",
     "output_type": "stream",
     "text": [
      "F1:  0.8154761904761905\n",
      "accuracy:  0.7933333333333333\n"
     ]
    }
   ],
   "source": [
    "# Обучаем модель с лучшими параметрами\n",
    "model_KNN = KNeighborsClassifier(algorithm = grid_search_KNN3.best_params_['KNN__algorithm'], \n",
    "                                 n_neighbors = grid_search_KNN3.best_params_['KNN__n_neighbors'], \n",
    "                                 weights = grid_search_KNN3.best_params_['KNN__weights'])\n",
    "model_KNN.fit(X_train, Y_train)\n",
    "Y_KNN = model_KNN.predict(X_test)\n",
    "\n",
    "print('F1: ', f1_score(Y_test, Y_KNN))\n",
    "print('accuracy: ', accuracy_score(Y_test, Y_KNN))"
   ]
  },
  {
   "cell_type": "markdown",
   "id": "b9deab47",
   "metadata": {},
   "source": [
    "В случае Метода k-соседей лучшие результаты получили при наборе принаков из для меньших длин. Аccuracy = 0.8\n",
    "\n",
    "Параметры: KNN__algorithm = auto, gKNN__n_neighbors = 24,  KNN__weights =  distance"
   ]
  },
  {
   "cell_type": "markdown",
   "id": "1fe80e09",
   "metadata": {},
   "source": [
    "#### Дерево решений "
   ]
  },
  {
   "cell_type": "code",
   "execution_count": 23,
   "id": "6b18c2a1",
   "metadata": {},
   "outputs": [
    {
     "data": {
      "text/plain": [
       "{'DTC__criterion': 'entropy', 'DTC__max_depth': 8, 'DTC__splitter': 'random'}"
      ]
     },
     "execution_count": 23,
     "metadata": {},
     "output_type": "execute_result"
    }
   ],
   "source": [
    "# Дерево решений для меньших длин с подбором гиперпараметров\n",
    "\n",
    "df_new = df.drop(columns = ['Image Name', \n",
    "                            'series length 5',\n",
    "                            'series length 6', 'series length 7', \n",
    "                            'series length 8', 'series length 9',\n",
    "                            'series length 10', 'series length 11',\n",
    "                            'series length 12'])\n",
    "\n",
    "\n",
    "# Разделим набор данных на независимые и зависимые переменные. Сохраняем как массив\n",
    "X = df_new.drop('with message', axis = 1)\n",
    "Y = df_new['with message']\n",
    "\n",
    "# поделили на обучающую и тестовую выборки 30/70\n",
    "X_train, X_test, Y_train, Y_test = train_test_split(X, Y, test_size = 0.3, random_state = 21)\n",
    "X_train.shape, X_test.shape\n",
    "\n",
    "# Нормализуем данные\n",
    "DTC = DecisionTreeClassifier()\n",
    "scaler = StandardScaler()\n",
    "\n",
    "steps_DTC = [('normalizer', scaler), ('DTC', DTC)]\n",
    "pipe_DTC = Pipeline(steps_DTC)\n",
    "\n",
    "\n",
    "# Подбираем гиперпараметры\n",
    "\n",
    "params_DTC = \\\n",
    "     {'DTC__max_depth': np.arange(1, 10),\n",
    "     'DTC__splitter': ['best', 'random'],\n",
    "     'DTC__criterion': ['gini', 'entropy']}\n",
    "\n",
    "grid_search_DTC1 = GridSearchCV(pipe_DTC, params_DTC)\n",
    "grid_search_DTC1.fit(X_train, Y_train)\n",
    "grid_search_DTC1.best_params_\n"
   ]
  },
  {
   "cell_type": "code",
   "execution_count": 24,
   "id": "49bdbd55",
   "metadata": {},
   "outputs": [
    {
     "name": "stdout",
     "output_type": "stream",
     "text": [
      "F1:  0.8217522658610272\n",
      "accuracy:  0.8033333333333333\n"
     ]
    }
   ],
   "source": [
    "# Обучаем модель с лучшими параметрами\n",
    "\n",
    "model_DTC = DecisionTreeClassifier(max_depth = grid_search_DTC1.best_params_['DTC__max_depth'], \n",
    "                                 splitter = grid_search_DTC1.best_params_['DTC__splitter'], \n",
    "                                 criterion = grid_search_DTC1.best_params_['DTC__criterion'])\n",
    "model_DTC.fit(X_train, Y_train)\n",
    "Y_DTC = model_DTC.predict(X_test)\n",
    "\n",
    "print('F1: ', f1_score(Y_test, Y_DTC))\n",
    "print('accuracy: ', accuracy_score(Y_test, Y_DTC))"
   ]
  },
  {
   "cell_type": "code",
   "execution_count": 25,
   "id": "885b9f2d",
   "metadata": {},
   "outputs": [
    {
     "data": {
      "text/plain": [
       "{'DTC__criterion': 'entropy', 'DTC__max_depth': 6, 'DTC__splitter': 'random'}"
      ]
     },
     "execution_count": 25,
     "metadata": {},
     "output_type": "execute_result"
    }
   ],
   "source": [
    "# Дерево решений для объединенных признаков.\n",
    "\n",
    "df_title = {'low midle': [], 'high midle': [], 'with message': []}\n",
    "df_new = pd.DataFrame(df_title)\n",
    "\n",
    "df_new['low midle'] = round((df['series length 1'] + df['series length 2'] + df['series length 3'])/3)\n",
    "df_new['high midle'] = round((df['series length 10'] + df['series length 11'] + df['series length 12'])/3)\n",
    "df_new['with message'] = df['with message']\n",
    "\n",
    "\n",
    "# Разделим набор данных на независимые и зависимые переменные. Сохраняем как массив\n",
    "X = df_new.drop('with message', axis = 1)\n",
    "Y = df_new['with message']\n",
    "\n",
    "# поделили на обучающую и тестовую выборки 30/70\n",
    "X_train, X_test, Y_train, Y_test = train_test_split(X, Y, test_size = 0.3, random_state = 21)\n",
    "X_train.shape, X_test.shape\n",
    "\n",
    "# Нормализуем данные\n",
    "DTC = DecisionTreeClassifier()\n",
    "scaler = StandardScaler()\n",
    "\n",
    "steps_DTC = [('normalizer', scaler), ('DTC', DTC)]\n",
    "pipe_DTC = Pipeline(steps_DTC)\n",
    "\n",
    "\n",
    "# Подбираем гиперпараметры\n",
    "\n",
    "params_DTC = \\\n",
    "     {'DTC__max_depth': np.arange(1, 10),\n",
    "     'DTC__splitter': ['best', 'random'],\n",
    "     'DTC__criterion': ['gini', 'entropy']}\n",
    "\n",
    "grid_search_DTC2 = GridSearchCV(pipe_DTC, params_DTC)\n",
    "grid_search_DTC2.fit(X_train, Y_train)\n",
    "grid_search_DTC2.best_params_"
   ]
  },
  {
   "cell_type": "code",
   "execution_count": 26,
   "id": "4f0e5f71",
   "metadata": {},
   "outputs": [
    {
     "name": "stdout",
     "output_type": "stream",
     "text": [
      "F1:  0.7830985915492958\n",
      "accuracy:  0.7433333333333333\n"
     ]
    }
   ],
   "source": [
    "# Обучаем модель с лучшими параметрами\n",
    "\n",
    "model_DTC = DecisionTreeClassifier(max_depth = grid_search_DTC2.best_params_['DTC__max_depth'], \n",
    "                                 splitter = grid_search_DTC2.best_params_['DTC__splitter'], \n",
    "                                 criterion = grid_search_DTC2.best_params_['DTC__criterion'])\n",
    "model_DTC.fit(X_train, Y_train)\n",
    "Y_DTC = model_DTC.predict(X_test)\n",
    "\n",
    "print('F1: ', f1_score(Y_test, Y_DTC))\n",
    "print('accuracy: ', accuracy_score(Y_test, Y_DTC))"
   ]
  },
  {
   "cell_type": "code",
   "execution_count": 27,
   "id": "a7e301be",
   "metadata": {},
   "outputs": [
    {
     "data": {
      "text/plain": [
       "{'DTC__criterion': 'entropy', 'DTC__max_depth': 4, 'DTC__splitter': 'best'}"
      ]
     },
     "execution_count": 27,
     "metadata": {},
     "output_type": "execute_result"
    }
   ],
   "source": [
    "# Дерево решений на полном наборе признаков.\n",
    "\n",
    "df_new = df.drop(columns = ['Image Name'])\n",
    "\n",
    "\n",
    "# Разделим набор данных на независимые и зависимые переменные. Сохраняем как массив\n",
    "X = df_new.drop('with message', axis = 1)\n",
    "Y = df_new['with message']\n",
    "\n",
    "# поделили на обучающую и тестовую выборки 30/70\n",
    "X_train, X_test, Y_train, Y_test = train_test_split(X, Y, test_size = 0.3, random_state = 21)\n",
    "X_train.shape, X_test.shape\n",
    "\n",
    "# Нормализуем данные\n",
    "DTC = DecisionTreeClassifier()\n",
    "scaler = StandardScaler()\n",
    "\n",
    "steps_DTC = [('normalizer', scaler), ('DTC', DTC)]\n",
    "pipe_DTC = Pipeline(steps_DTC)\n",
    "\n",
    "\n",
    "# Подбираем гиперпараметры\n",
    "\n",
    "params_DTC = \\\n",
    "     {'DTC__max_depth': np.arange(1, 10),\n",
    "     'DTC__splitter': ['best', 'random'],\n",
    "     'DTC__criterion': ['gini', 'entropy']}\n",
    "\n",
    "grid_search_DTC3 = GridSearchCV(pipe_DTC, params_DTC)\n",
    "grid_search_DTC3.fit(X_train, Y_train)\n",
    "grid_search_DTC3.best_params_"
   ]
  },
  {
   "cell_type": "code",
   "execution_count": 28,
   "id": "6c677a17",
   "metadata": {},
   "outputs": [
    {
     "name": "stdout",
     "output_type": "stream",
     "text": [
      "F1:  0.8045977011494252\n",
      "accuracy:  0.7733333333333333\n"
     ]
    }
   ],
   "source": [
    "# Обучаем модель с лучшими параметрами\n",
    "\n",
    "model_DTC = DecisionTreeClassifier(max_depth = grid_search_DTC3.best_params_['DTC__max_depth'], \n",
    "                                 splitter = grid_search_DTC3.best_params_['DTC__splitter'], \n",
    "                                 criterion = grid_search_DTC3.best_params_['DTC__criterion'])\n",
    "model_DTC.fit(X_train, Y_train)\n",
    "Y_DTC = model_DTC.predict(X_test)\n",
    "\n",
    "print('F1: ', f1_score(Y_test, Y_DTC))\n",
    "print('accuracy: ', accuracy_score(Y_test, Y_DTC))"
   ]
  },
  {
   "cell_type": "markdown",
   "id": "0c692c03",
   "metadata": {},
   "source": [
    "В случае DecisionTreeClassifier лучшие результаты получили при наборе принаков из для меньших длин. Аccuracy = 0.78\n",
    "\n",
    "Параметры: DTC__criterion = entropy, DTC__max_depth = 4, DTC__splitter = best"
   ]
  },
  {
   "cell_type": "markdown",
   "id": "31302f58",
   "metadata": {},
   "source": [
    "#### Случайный лес"
   ]
  },
  {
   "cell_type": "code",
   "execution_count": 29,
   "id": "e326368a",
   "metadata": {},
   "outputs": [
    {
     "data": {
      "text/plain": [
       "{'RFC__criterion': 'entropy', 'RFC__n_estimators': 17}"
      ]
     },
     "execution_count": 29,
     "metadata": {},
     "output_type": "execute_result"
    }
   ],
   "source": [
    "# Дерево решений для меньших длин с подбором гиперпараметров\n",
    "\n",
    "df_new = df.drop(columns = ['Image Name', \n",
    "                            'series length 5',\n",
    "                            'series length 6', 'series length 7', \n",
    "                            'series length 8', 'series length 9',\n",
    "                            'series length 10', 'series length 11',\n",
    "                            'series length 12'])\n",
    "\n",
    "\n",
    "# Разделим набор данных на независимые и зависимые переменные. Сохраняем как массив\n",
    "X = df_new.drop('with message', axis = 1)\n",
    "Y = df_new['with message']\n",
    "\n",
    "# поделили на обучающую и тестовую выборки 30/70\n",
    "X_train, X_test, Y_train, Y_test = train_test_split(X, Y, test_size = 0.3, random_state = 21)\n",
    "X_train.shape, X_test.shape\n",
    "\n",
    "# Нормализуем данные\n",
    "RFC = RandomForestClassifier()\n",
    "scaler = StandardScaler()\n",
    "\n",
    "steps_RFC = [('normalizer', scaler), ('RFC', RFC)]\n",
    "pipe_RFC = Pipeline(steps_RFC)\n",
    "\n",
    "\n",
    "# Подбираем гиперпараметры\n",
    "params_RFC = \\\n",
    "     {'RFC__n_estimators': np.arange(10, 100),\n",
    "     'RFC__criterion': ['gini', 'entropy']}\n",
    "grid_search_RFC1 = GridSearchCV(pipe_RFC, params_RFC)\n",
    "grid_search_RFC1.fit(X_train, Y_train)\n",
    "grid_search_RFC1.best_params_"
   ]
  },
  {
   "cell_type": "code",
   "execution_count": 30,
   "id": "6d9e38da",
   "metadata": {},
   "outputs": [
    {
     "name": "stdout",
     "output_type": "stream",
     "text": [
      "F1:  0.7590759075907592\n",
      "accuracy:  0.7566666666666667\n"
     ]
    }
   ],
   "source": [
    "# Обучаем модель с лучшими параметрами\n",
    "\n",
    "model_RFC = RandomForestClassifier(n_estimators = grid_search_RFC1.best_params_['RFC__n_estimators'], \n",
    "                                 criterion = grid_search_RFC1.best_params_['RFC__criterion'])\n",
    "model_RFC.fit(X_train, Y_train)\n",
    "Y_RFC = model_RFC.predict(X_test)\n",
    "\n",
    "print('F1: ', f1_score(Y_test, Y_RFC))\n",
    "print('accuracy: ', accuracy_score(Y_test, Y_RFC))"
   ]
  },
  {
   "cell_type": "code",
   "execution_count": 31,
   "id": "4c882270",
   "metadata": {},
   "outputs": [
    {
     "data": {
      "text/plain": [
       "{'RFC__criterion': 'entropy', 'RFC__n_estimators': 73}"
      ]
     },
     "execution_count": 31,
     "metadata": {},
     "output_type": "execute_result"
    }
   ],
   "source": [
    "# Дерево решений для объединенных признаков.\n",
    "\n",
    "df_title = {'low midle': [], 'high midle': [], 'with message': []}\n",
    "df_new = pd.DataFrame(df_title)\n",
    "\n",
    "df_new['low midle'] = round((df['series length 1'] + df['series length 2'] + df['series length 3'])/3)\n",
    "df_new['high midle'] = round((df['series length 10'] + df['series length 11'] + df['series length 12'])/3)\n",
    "df_new['with message'] = df['with message']\n",
    "\n",
    "\n",
    "# Разделим набор данных на независимые и зависимые переменные. Сохраняем как массив\n",
    "X = df_new.drop('with message', axis = 1)\n",
    "Y = df_new['with message']\n",
    "\n",
    "# поделили на обучающую и тестовую выборки 30/70\n",
    "X_train, X_test, Y_train, Y_test = train_test_split(X, Y, test_size = 0.3, random_state = 21)\n",
    "X_train.shape, X_test.shape\n",
    "\n",
    "# Нормализуем данные\n",
    "RFC = RandomForestClassifier()\n",
    "scaler = StandardScaler()\n",
    "\n",
    "steps_RFC = [('normalizer', scaler), ('RFC', RFC)]\n",
    "pipe_RFC = Pipeline(steps_RFC)\n",
    "\n",
    "\n",
    "# Подбираем гиперпараметры\n",
    "params_RFC = \\\n",
    "     {'RFC__n_estimators': np.arange(10, 100),\n",
    "     'RFC__criterion': ['gini', 'entropy']}\n",
    "grid_search_RFC2 = GridSearchCV(pipe_RFC, params_RFC)\n",
    "grid_search_RFC2.fit(X_train, Y_train)\n",
    "grid_search_RFC2.best_params_"
   ]
  },
  {
   "cell_type": "code",
   "execution_count": 32,
   "id": "f714b1b0",
   "metadata": {},
   "outputs": [
    {
     "name": "stdout",
     "output_type": "stream",
     "text": [
      "F1:  0.7222222222222222\n",
      "accuracy:  0.7\n"
     ]
    }
   ],
   "source": [
    "# Обучаем модель с лучшими параметрами\n",
    "\n",
    "model_RFC = RandomForestClassifier(n_estimators = grid_search_RFC2.best_params_['RFC__n_estimators'], \n",
    "                                 criterion = grid_search_RFC2.best_params_['RFC__criterion'])\n",
    "model_RFC.fit(X_train, Y_train)\n",
    "Y_RFC = model_RFC.predict(X_test)\n",
    "\n",
    "\n",
    "print('F1: ', f1_score(Y_test, Y_RFC))\n",
    "print('accuracy: ', accuracy_score(Y_test, Y_RFC))"
   ]
  },
  {
   "cell_type": "code",
   "execution_count": 33,
   "id": "65662bb5",
   "metadata": {},
   "outputs": [
    {
     "data": {
      "text/plain": [
       "{'RFC__criterion': 'entropy', 'RFC__n_estimators': 55}"
      ]
     },
     "execution_count": 33,
     "metadata": {},
     "output_type": "execute_result"
    }
   ],
   "source": [
    "# Дерево решений на полном наборе признаков.\n",
    "\n",
    "df_new = df.drop(columns = ['Image Name'])\n",
    "\n",
    "# Разделим набор данных на независимые и зависимые переменные. Сохраняем как массив\n",
    "X = df_new.drop('with message', axis = 1)\n",
    "Y = df_new['with message']\n",
    "\n",
    "# поделили на обучающую и тестовую выборки 30/70\n",
    "X_train, X_test, Y_train, Y_test = train_test_split(X, Y, test_size = 0.3, random_state = 21)\n",
    "X_train.shape, X_test.shape\n",
    "\n",
    "# Нормализуем данные\n",
    "RFC = RandomForestClassifier()\n",
    "scaler = StandardScaler()\n",
    "\n",
    "steps_RFC = [('normalizer', scaler), ('RFC', RFC)]\n",
    "pipe_RFC = Pipeline(steps_RFC)\n",
    "\n",
    "\n",
    "# Подбираем гиперпараметры\n",
    "params_RFC = \\\n",
    "     {'RFC__n_estimators': np.arange(10, 100),\n",
    "     'RFC__criterion': ['gini', 'entropy']}\n",
    "grid_search_RFC3 = GridSearchCV(pipe_RFC, params_RFC)\n",
    "grid_search_RFC3.fit(X_train, Y_train)\n",
    "grid_search_RFC3.best_params_"
   ]
  },
  {
   "cell_type": "code",
   "execution_count": 34,
   "id": "36ecf5d1",
   "metadata": {},
   "outputs": [
    {
     "name": "stdout",
     "output_type": "stream",
     "text": [
      "F1:  0.7915407854984894\n",
      "accuracy:  0.77\n"
     ]
    }
   ],
   "source": [
    "# Обучаем модель с лучшими параметрами\n",
    "\n",
    "model_RFC = RandomForestClassifier(n_estimators = grid_search_RFC3.best_params_['RFC__n_estimators'], \n",
    "                                 criterion = grid_search_RFC3.best_params_['RFC__criterion'])\n",
    "model_RFC.fit(X_train, Y_train)\n",
    "Y_RFC = model_RFC.predict(X_test)\n",
    "\n",
    "\n",
    "print('F1: ', f1_score(Y_test, Y_RFC))\n",
    "print('accuracy: ', accuracy_score(Y_test, Y_RFC))"
   ]
  },
  {
   "cell_type": "markdown",
   "id": "e6a1eb5d",
   "metadata": {},
   "source": [
    "В случае RandomForestClassifier лучшие результаты получили на полном наборе принаков. Аccuracy = 0.8\n",
    "\n",
    "Параметры: RFC__criterion = gini, RFC__n_estimators = 97"
   ]
  },
  {
   "cell_type": "markdown",
   "id": "fe00b62b",
   "metadata": {},
   "source": [
    "#### Зависимость точности от заполненности контейнера"
   ]
  },
  {
   "cell_type": "code",
   "execution_count": 35,
   "id": "f7e05347",
   "metadata": {},
   "outputs": [],
   "source": [
    "# Классификатор RandomForestClassifier на полном наборе принаков\n",
    "# с параметрами {'RFC__criterion': 'gini', 'RFC__n_estimators': 97}\n",
    "\n",
    "Q = []\n",
    "Accur = []\n",
    "for percent in range(20, 110, 10):\n",
    "    df_name = 'LSB_' + str(percent) + '.csv'\n",
    "    df = pd.read_csv(df_name)\n",
    "    \n",
    "    df_new = df.drop(columns = ['Image Name'])\n",
    "    \n",
    "    \n",
    "    # Разделим набор данных на независимые и зависимые переменные. Сохраняем как массив\n",
    "    X = df_new.drop('with message', axis = 1)\n",
    "    Y = df_new['with message']\n",
    "    \n",
    "    # поделили на обучающую и тестовую выборки 30/70\n",
    "    X_train, X_test, Y_train, Y_test = train_test_split(X, Y, test_size = 0.3, random_state = 21)\n",
    "    X_train.shape, X_test.shape\n",
    "    \n",
    "    # Нормализуем данные\n",
    "    scale_features_mm = MinMaxScaler()\n",
    "    X_train_new = scale_features_mm.fit_transform(X_train) \n",
    "    X_test_new = scale_features_mm.fit_transform(X_test)\n",
    "\n",
    "        \n",
    "    model_RFC = RandomForestClassifier(n_estimators = grid_search_RFC3.best_params_['RFC__n_estimators'], \n",
    "                                 criterion = grid_search_RFC3.best_params_['RFC__criterion'])\n",
    "\n",
    "    model_RFC.fit(X_train, Y_train)\n",
    "    Y_RFC = model_RFC.predict(X_test)\n",
    "\n",
    "    Q.append(percent)\n",
    "    Accur.append(round(accuracy_score(Y_test, Y_RFC), 6))"
   ]
  },
  {
   "cell_type": "code",
   "execution_count": 36,
   "id": "b9d3723f",
   "metadata": {},
   "outputs": [
    {
     "name": "stdout",
     "output_type": "stream",
     "text": [
      "[20, 30, 40, 50, 60, 70, 80, 90, 100]\n",
      "[0.66, 0.69, 0.736667, 0.783333, 0.836667, 0.86, 0.91, 0.933333, 0.943333]\n"
     ]
    }
   ],
   "source": [
    "print(Q)    \n",
    "print(Accur)"
   ]
  },
  {
   "cell_type": "code",
   "execution_count": 37,
   "id": "1a58189d",
   "metadata": {},
   "outputs": [
    {
     "data": {
      "text/plain": [
       "<function matplotlib.pyplot.show(close=None, block=None)>"
      ]
     },
     "execution_count": 37,
     "metadata": {},
     "output_type": "execute_result"
    },
    {
     "data": {
      "image/png": "[encoded data removed]",
      "text/plain": [
       "<Figure size 432x288 with 1 Axes>"
      ]
     },
     "metadata": {
      "needs_background": "light"
     },
     "output_type": "display_data"
    }
   ],
   "source": [
    "plt.plot(Accur, Q)\n",
    "plt.title('model accuracy')\n",
    "plt.ylabel('container fullness')\n",
    "plt.xlabel('accuracy')\n",
    "plt.legend(['train'], loc = 'upper left')\n",
    "plt.show"
   ]
  },
  {
   "cell_type": "markdown",
   "id": "efb640cc",
   "metadata": {},
   "source": [
    "Как и предполагалось, с увеличением процента заполненности контейнера точность уаеличивается"
   ]
  }
 ],
 "metadata": {
  "kernelspec": {
   "display_name": "Python 3 (ipykernel)",
   "language": "python",
   "name": "python3"
  },
  "language_info": {
   "codemirror_mode": {
    "name": "ipython",
    "version": 3
   },
   "file_extension": ".py",
   "mimetype": "text/x-python",
   "name": "python",
   "nbconvert_exporter": "python",
   "pygments_lexer": "ipython3",
   "version": "3.8.10"
  }
 },
 "nbformat": 4,
 "nbformat_minor": 5
}
