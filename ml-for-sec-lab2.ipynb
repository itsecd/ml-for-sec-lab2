{
 "cells": [
  {
   "cell_type": "markdown",
   "metadata": {},
   "source": [
    "# Модели машинного обучения"
   ]
  },
  {
   "cell_type": "code",
   "execution_count": 1,
   "metadata": {},
   "outputs": [],
   "source": [
    "import warnings\n",
    "import glob\n",
    "import pandas as pd\n",
    "import matplotlib.pyplot as plt\n",
    "\n",
    "from tqdm import tqdm\n",
    "from catboost import CatBoostClassifier\n",
    "from sklearn.model_selection import train_test_split, cross_val_score\n",
    "from sklearn.metrics import accuracy_score\n",
    "from sklearn.svm import LinearSVC, SVC\n",
    "from skopt import BayesSearchCV\n",
    "from sklearn.preprocessing import scale\n",
    "from sklearn.model_selection import GridSearchCV\n",
    "\n",
    "warnings.filterwarnings(\"ignore\")"
   ]
  },
  {
   "cell_type": "code",
   "execution_count": 2,
   "metadata": {},
   "outputs": [
    {
     "name": "stdout",
     "output_type": "stream",
     "text": [
      "datasets\\data_0.2.csv\n",
      "datasets\\data_0.3.csv\n",
      "datasets\\data_0.4.csv\n",
      "datasets\\data_0.5.csv\n",
      "datasets\\data_0.6.csv\n",
      "datasets\\data_0.7.csv\n",
      "datasets\\data_0.8.csv\n",
      "datasets\\data_0.9.csv\n",
      "datasets\\data_1.0.csv\n"
     ]
    }
   ],
   "source": [
    "DATASETS_DIR = \"datasets\"\n",
    "Q = [0.2, 0.3, 0.4, 0.5, 0.6, 0.7, 0.8, 0.9, 1.0]\n",
    "files = glob.glob(DATASETS_DIR + \"/*.csv\", recursive=True)\n",
    "print(\"\\n\".join(files))"
   ]
  },
  {
   "cell_type": "markdown",
   "metadata": {},
   "source": [
    "## CatBoost"
   ]
  },
  {
   "cell_type": "code",
   "execution_count": 3,
   "outputs": [],
   "source": [
    "LEARNING_RATE = 0.4\n",
    "\n",
    "catboost_model = CatBoostClassifier(\n",
    "    task_type=\"GPU\",\n",
    "    iterations=300,\n",
    "    od_wait=10,\n",
    "    od_type=\"Iter\",\n",
    "    learning_rate=LEARNING_RATE,\n",
    "    allow_writing_files=False,\n",
    "    silent=True,\n",
    ")"
   ],
   "metadata": {
    "collapsed": false
   }
  },
  {
   "cell_type": "code",
   "execution_count": 4,
   "metadata": {},
   "outputs": [
    {
     "name": "stderr",
     "output_type": "stream",
     "text": [
      "100%|██████████| 9/9 [00:33<00:00,  3.74s/it]\n"
     ]
    }
   ],
   "source": [
    "catboost_accuracy_list = []\n",
    "\n",
    "for file in tqdm(files):\n",
    "    df = pd.read_csv(file)\n",
    "\n",
    "    df[df.columns[:-1]] = scale(df[df.columns[:-1]])\n",
    "\n",
    "    df_train, df_test = train_test_split(df, test_size=0.3)\n",
    "\n",
    "    y_train = df_train.pop('noised')\n",
    "    X_train = df_train\n",
    "    y_test = df_test.pop('noised')\n",
    "    X_test = df_test\n",
    "\n",
    "    X_train_, X_val, y_train_, y_val = train_test_split(X_train, y_train, test_size=0.2)\n",
    "\n",
    "    catboost_model.fit(X_train, y_train, eval_set=(X_val, y_val), use_best_model=True)\n",
    "\n",
    "    catboost_accuracy_list.append(accuracy_score(y_test, catboost_model.predict(X_test)))\n"
   ]
  },
  {
   "cell_type": "code",
   "execution_count": 5,
   "outputs": [
    {
     "data": {
      "text/plain": "<Figure size 500x300 with 1 Axes>",
      "image/png": "[encoded data removed]"
     },
     "metadata": {},
     "output_type": "display_data"
    }
   ],
   "source": [
    "plt.figure(figsize=(5,3))\n",
    "plt.title(\"Точность для CatBoost\")\n",
    "plt.ylabel(\"Точность\")\n",
    "plt.xlabel(\"Зашумленность (q)\")\n",
    "plt.plot(Q, catboost_accuracy_list)\n",
    "plt.show()"
   ],
   "metadata": {
    "collapsed": false
   }
  },
  {
   "cell_type": "markdown",
   "metadata": {},
   "source": [
    "## SVM\n",
    "\n",
    "### Линейный метод SVM"
   ]
  },
  {
   "cell_type": "code",
   "execution_count": 6,
   "outputs": [],
   "source": [
    "gs = GridSearchCV(estimator=LinearSVC(),\n",
    "                  param_grid= {\n",
    "                      \"C\": [x / 10 for x in range(1, 11, 1)],\n",
    "                      \"max_iter\": [x for x in range(10, 100, 10)],\n",
    "                      \"loss\": [\"hinge\", \"squared_hinge\"],\n",
    "                  },\n",
    "                  scoring='accuracy', cv=5, verbose=1, n_jobs=-1)"
   ],
   "metadata": {
    "collapsed": false
   }
  },
  {
   "cell_type": "code",
   "execution_count": 7,
   "metadata": {},
   "outputs": [
    {
     "name": "stderr",
     "output_type": "stream",
     "text": [
      "  0%|          | 0/9 [00:00<?, ?it/s]"
     ]
    },
    {
     "name": "stdout",
     "output_type": "stream",
     "text": [
      "Fitting 5 folds for each of 180 candidates, totalling 900 fits\n"
     ]
    },
    {
     "name": "stderr",
     "output_type": "stream",
     "text": [
      " 11%|█         | 1/9 [00:03<00:24,  3.00s/it]"
     ]
    },
    {
     "name": "stdout",
     "output_type": "stream",
     "text": [
      "Fitting 5 folds for each of 180 candidates, totalling 900 fits\n"
     ]
    },
    {
     "name": "stderr",
     "output_type": "stream",
     "text": [
      " 22%|██▏       | 2/9 [00:04<00:13,  1.96s/it]"
     ]
    },
    {
     "name": "stdout",
     "output_type": "stream",
     "text": [
      "Fitting 5 folds for each of 180 candidates, totalling 900 fits\n"
     ]
    },
    {
     "name": "stderr",
     "output_type": "stream",
     "text": [
      " 33%|███▎      | 3/9 [00:05<00:09,  1.61s/it]"
     ]
    },
    {
     "name": "stdout",
     "output_type": "stream",
     "text": [
      "Fitting 5 folds for each of 180 candidates, totalling 900 fits\n"
     ]
    },
    {
     "name": "stderr",
     "output_type": "stream",
     "text": [
      " 44%|████▍     | 4/9 [00:06<00:07,  1.44s/it]"
     ]
    },
    {
     "name": "stdout",
     "output_type": "stream",
     "text": [
      "Fitting 5 folds for each of 180 candidates, totalling 900 fits\n"
     ]
    },
    {
     "name": "stderr",
     "output_type": "stream",
     "text": [
      " 56%|█████▌    | 5/9 [00:07<00:05,  1.34s/it]"
     ]
    },
    {
     "name": "stdout",
     "output_type": "stream",
     "text": [
      "Fitting 5 folds for each of 180 candidates, totalling 900 fits\n"
     ]
    },
    {
     "name": "stderr",
     "output_type": "stream",
     "text": [
      " 67%|██████▋   | 6/9 [00:08<00:03,  1.24s/it]"
     ]
    },
    {
     "name": "stdout",
     "output_type": "stream",
     "text": [
      "Fitting 5 folds for each of 180 candidates, totalling 900 fits\n"
     ]
    },
    {
     "name": "stderr",
     "output_type": "stream",
     "text": [
      " 78%|███████▊  | 7/9 [00:09<00:02,  1.15s/it]"
     ]
    },
    {
     "name": "stdout",
     "output_type": "stream",
     "text": [
      "Fitting 5 folds for each of 180 candidates, totalling 900 fits\n"
     ]
    },
    {
     "name": "stderr",
     "output_type": "stream",
     "text": [
      " 89%|████████▉ | 8/9 [00:10<00:01,  1.07s/it]"
     ]
    },
    {
     "name": "stdout",
     "output_type": "stream",
     "text": [
      "Fitting 5 folds for each of 180 candidates, totalling 900 fits\n"
     ]
    },
    {
     "name": "stderr",
     "output_type": "stream",
     "text": [
      "100%|██████████| 9/9 [00:11<00:00,  1.29s/it]\n"
     ]
    }
   ],
   "source": [
    "linear_svm_accuracy_list = []\n",
    "\n",
    "for file in tqdm(files):\n",
    "    df = pd.read_csv(file)\n",
    "\n",
    "    df[df.columns[:-1]] = scale(df[df.columns[:-1]])\n",
    "\n",
    "    df_train, df_test = train_test_split(df, test_size=0.3)\n",
    "\n",
    "    y_train = df_train.pop('noised')\n",
    "    X_train = df_train\n",
    "    y_test = df_test.pop('noised')\n",
    "    X_test = df_test\n",
    "\n",
    "    gs.fit(X_train, y_train)\n",
    "\n",
    "    best_liner_svm = gs.best_estimator_\n",
    "    linear_svm_accuracy_list.append(cross_val_score(best_liner_svm, X_test, y_test, scoring=\"accuracy\", n_jobs=-1).mean())"
   ]
  },
  {
   "cell_type": "code",
   "execution_count": 8,
   "metadata": {},
   "outputs": [
    {
     "data": {
      "text/plain": "<Figure size 500x300 with 1 Axes>",
      "image/png": "[encoded data removed]"
     },
     "metadata": {},
     "output_type": "display_data"
    }
   ],
   "source": [
    "plt.figure(figsize=(5,3))\n",
    "plt.title(\"Точность для LinearSVM\")\n",
    "plt.ylabel(\"Точность\")\n",
    "plt.xlabel(\"Зашумленность (q)\")\n",
    "plt.plot(Q, linear_svm_accuracy_list)\n",
    "plt.show()"
   ]
  },
  {
   "cell_type": "markdown",
   "metadata": {},
   "source": [
    "## Нелинейный SVM"
   ]
  },
  {
   "cell_type": "code",
   "execution_count": 9,
   "outputs": [],
   "source": [
    "gs = GridSearchCV(estimator=SVC(),\n",
    "                  param_grid= {\n",
    "                    \"C\": [x / 10 for x in range(1, 11, 1)],\n",
    "                    \"max_iter\": [x for x in range(10, 100, 10)],\n",
    "                  },\n",
    "                  scoring='accuracy', cv=5, verbose=1, n_jobs=-1)"
   ],
   "metadata": {
    "collapsed": false
   }
  },
  {
   "cell_type": "code",
   "execution_count": 10,
   "metadata": {},
   "outputs": [
    {
     "name": "stderr",
     "output_type": "stream",
     "text": [
      "  0%|          | 0/9 [00:00<?, ?it/s]"
     ]
    },
    {
     "name": "stdout",
     "output_type": "stream",
     "text": [
      "Fitting 5 folds for each of 90 candidates, totalling 450 fits\n"
     ]
    },
    {
     "name": "stderr",
     "output_type": "stream",
     "text": [
      " 11%|█         | 1/9 [00:00<00:05,  1.53it/s]"
     ]
    },
    {
     "name": "stdout",
     "output_type": "stream",
     "text": [
      "Fitting 5 folds for each of 90 candidates, totalling 450 fits\n"
     ]
    },
    {
     "name": "stderr",
     "output_type": "stream",
     "text": [
      " 22%|██▏       | 2/9 [00:01<00:04,  1.51it/s]"
     ]
    },
    {
     "name": "stdout",
     "output_type": "stream",
     "text": [
      "Fitting 5 folds for each of 90 candidates, totalling 450 fits\n"
     ]
    },
    {
     "name": "stderr",
     "output_type": "stream",
     "text": [
      " 33%|███▎      | 3/9 [00:01<00:03,  1.51it/s]"
     ]
    },
    {
     "name": "stdout",
     "output_type": "stream",
     "text": [
      "Fitting 5 folds for each of 90 candidates, totalling 450 fits\n"
     ]
    },
    {
     "name": "stderr",
     "output_type": "stream",
     "text": [
      " 44%|████▍     | 4/9 [00:02<00:03,  1.50it/s]"
     ]
    },
    {
     "name": "stdout",
     "output_type": "stream",
     "text": [
      "Fitting 5 folds for each of 90 candidates, totalling 450 fits\n"
     ]
    },
    {
     "name": "stderr",
     "output_type": "stream",
     "text": [
      " 56%|█████▌    | 5/9 [00:03<00:02,  1.48it/s]"
     ]
    },
    {
     "name": "stdout",
     "output_type": "stream",
     "text": [
      "Fitting 5 folds for each of 90 candidates, totalling 450 fits\n"
     ]
    },
    {
     "name": "stderr",
     "output_type": "stream",
     "text": [
      " 67%|██████▋   | 6/9 [00:04<00:02,  1.47it/s]"
     ]
    },
    {
     "name": "stdout",
     "output_type": "stream",
     "text": [
      "Fitting 5 folds for each of 90 candidates, totalling 450 fits\n"
     ]
    },
    {
     "name": "stderr",
     "output_type": "stream",
     "text": [
      " 78%|███████▊  | 7/9 [00:04<00:01,  1.47it/s]"
     ]
    },
    {
     "name": "stdout",
     "output_type": "stream",
     "text": [
      "Fitting 5 folds for each of 90 candidates, totalling 450 fits\n"
     ]
    },
    {
     "name": "stderr",
     "output_type": "stream",
     "text": [
      " 89%|████████▉ | 8/9 [00:05<00:00,  1.49it/s]"
     ]
    },
    {
     "name": "stdout",
     "output_type": "stream",
     "text": [
      "Fitting 5 folds for each of 90 candidates, totalling 450 fits\n"
     ]
    },
    {
     "name": "stderr",
     "output_type": "stream",
     "text": [
      "100%|██████████| 9/9 [00:06<00:00,  1.50it/s]\n"
     ]
    }
   ],
   "source": [
    "svm_accuracy_list = []\n",
    "\n",
    "for file in tqdm(files):\n",
    "    df = pd.read_csv(file)\n",
    "\n",
    "    df[df.columns[:-1]] = scale(df[df.columns[:-1]])\n",
    "\n",
    "    df_train, df_test = train_test_split(df, test_size=0.3)\n",
    "\n",
    "    y_train = df_train.pop('noised')\n",
    "    X_train = df_train\n",
    "    y_test = df_test.pop('noised')\n",
    "    X_test = df_test\n",
    "\n",
    "    gs.fit(X_train, y_train)\n",
    "    best_svm = gs.best_estimator_\n",
    "    svm_accuracy_list.append(cross_val_score(best_svm, X_test, y_test, scoring=\"accuracy\", n_jobs=-1).mean())"
   ]
  },
  {
   "cell_type": "code",
   "execution_count": 11,
   "metadata": {},
   "outputs": [
    {
     "data": {
      "text/plain": "<Figure size 500x300 with 1 Axes>",
      "image/png": "[encoded data removed]"
     },
     "metadata": {},
     "output_type": "display_data"
    }
   ],
   "source": [
    "plt.figure(figsize=(5,3))\n",
    "plt.title(\"Точность для SVM\")\n",
    "plt.ylabel(\"Точность\")\n",
    "plt.xlabel(\"Зашумленность (q)\")\n",
    "plt.plot(Q, svm_accuracy_list)\n",
    "plt.show()"
   ]
  }
 ],
 "metadata": {
  "kernelspec": {
   "display_name": "Python 3 (ipykernel)",
   "language": "python",
   "name": "python3"
  },
  "language_info": {
   "codemirror_mode": {
    "name": "ipython",
    "version": 3
   },
   "file_extension": ".py",
   "mimetype": "text/x-python",
   "name": "python",
   "nbconvert_exporter": "python",
   "pygments_lexer": "ipython3",
   "version": "3.9.13"
  },
  "vscode": {
   "interpreter": {
    "hash": "0893848790b5c7bcde6beab59e411cd3d28c08bf0ecce765ce2dae697e3d588e"
   }
  }
 },
 "nbformat": 4,
 "nbformat_minor": 1
}
