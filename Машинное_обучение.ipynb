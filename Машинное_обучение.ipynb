{
  "nbformat": 4,
  "nbformat_minor": 0,
  "metadata": {
    "colab": {
      "provenance": []
    },
    "kernelspec": {
      "name": "python3",
      "display_name": "Python 3"
    },
    "language_info": {
      "name": "python"
    }
  },
  "cells": [
    {
      "cell_type": "markdown",
      "source": [
        "Лабораторная работа №2. Методы стеганоанализа\n",
        "Коршиков В.И., группа 6233-010402D\n",
        "\n",
        "Сергунин С.К., группа 6233-010402D\n",
        "\n",
        "1. Обучение\n",
        "Произвести обучение классификатора (модель классификатора выбрать самостоятельно) по выборке, содержащей первые 70 % изображений каждого из двух типов (со встраиванием и без. То есть общий объём обучающей выборки составляет 𝐾∙0,7.\n",
        "\n",
        "2. Применить обученный классификатор на оставшихся 30 % изображений и оценить качество классификации по мере Accuracy. Вывести результат в виде графиков зависимости Accuracy от 𝑞.\n",
        "\n",
        "3. Повторить пп. 2-4 для других значений 𝑞 и (при желании) для других векторов признаков."
      ],
      "metadata": {
        "id": "-kR9LYliVyxM"
      }
    },
    {
      "cell_type": "code",
      "source": [
        "# Подключим гугл диск\n",
        "from google.colab import drive\n",
        "drive.mount('/content/drive')"
      ],
      "metadata": {
        "colab": {
          "base_uri": "https://localhost:8080/"
        },
        "id": "vs2fTjsaVy_X",
        "outputId": "a00f147d-2de0-4103-ec69-59502b492574"
      },
      "execution_count": null,
      "outputs": [
        {
          "output_type": "stream",
          "name": "stdout",
          "text": [
            "Drive already mounted at /content/drive; to attempt to forcibly remount, call drive.mount(\"/content/drive\", force_remount=True).\n"
          ]
        }
      ]
    },
    {
      "cell_type": "code",
      "source": [
        "import cv2\n",
        "import numpy as np\n",
        "import matplotlib.pyplot as plt\n",
        "%matplotlib inline\n",
        "\n",
        "import pandas as pd\n",
        "import numpy as np\n",
        "import seaborn as sns\n",
        "\n",
        "from sklearn.model_selection import train_test_split\n",
        "from sklearn.svm import SVC\n",
        "from sklearn.neighbors import KNeighborsClassifier\n",
        "from sklearn.tree import DecisionTreeClassifier\n",
        "from sklearn.ensemble import RandomForestClassifier\n",
        "from sklearn.naive_bayes import MultinomialNB\n",
        "from sklearn.linear_model import LogisticRegression\n",
        "from sklearn.discriminant_analysis import LinearDiscriminantAnalysis as LDA\n",
        "\n",
        "\n",
        "from sklearn.metrics import confusion_matrix, classification_report, f1_score, accuracy_score, roc_curve, plot_confusion_matrix\n",
        "\n",
        "from sklearn.pipeline import Pipeline\n",
        "from sklearn.preprocessing import StandardScaler\n",
        "from sklearn.preprocessing import MinMaxScaler\n",
        "\n",
        "from sklearn.model_selection import GridSearchCV"
      ],
      "metadata": {
        "id": "DnocKJRzWXM_"
      },
      "execution_count": null,
      "outputs": []
    },
    {
      "cell_type": "code",
      "source": [
        "df = pd.read_csv('/content/drive/MyDrive/LSB_70.csv')\n",
        "df.head()"
      ],
      "metadata": {
        "colab": {
          "base_uri": "https://localhost:8080/",
          "height": 267
        },
        "id": "rlr7qH3xWkUH",
        "outputId": "8c71ad49-12ed-4a2d-e420-cef3df828d1c"
      },
      "execution_count": null,
      "outputs": [
        {
          "output_type": "execute_result",
          "data": {
            "text/plain": [
              "       Image Name  series length 1  series length 2  series length 3  \\\n",
              "0  Image00001.tif          64987.0          32641.0          16370.0   \n",
              "1  Image00002.tif          64317.0          31807.0          15916.0   \n",
              "2  Image00003.tif          64315.0          31652.0          15960.0   \n",
              "3  Image00004.tif          64584.0          31639.0          15873.0   \n",
              "4  Image00005.tif          65677.0          32641.0          16470.0   \n",
              "\n",
              "   series length 4  series length 5  series length 6  series length 7  \\\n",
              "0           8320.0           4002.0           2067.0           1065.0   \n",
              "1           8071.0           4154.0           2173.0           1080.0   \n",
              "2           8069.0           4144.0           2204.0           1217.0   \n",
              "3           8088.0           4162.0           2128.0           1151.0   \n",
              "4           8285.0           4159.0           2042.0           1040.0   \n",
              "\n",
              "   series length 8  series length 9  series length 10  series length 11  \\\n",
              "0            541.0            241.0             140.0              77.0   \n",
              "1            625.0            345.0             181.0             106.0   \n",
              "2            565.0            323.0             183.0              99.0   \n",
              "3            613.0            326.0             175.0              99.0   \n",
              "4            450.0            253.0             124.0              52.0   \n",
              "\n",
              "   series length 12  with message  \n",
              "0              32.0           1.0  \n",
              "1              60.0           1.0  \n",
              "2              52.0           1.0  \n",
              "3              65.0           1.0  \n",
              "4              24.0           1.0  "
            ],
            "text/html": [
              "\n",
              "  <div id=\"df-96c5cae0-ecc5-4907-8ebc-725e410fc0f3\">\n",
              "    <div class=\"colab-df-container\">\n",
              "      <div>\n",
              "<style scoped>\n",
              "    .dataframe tbody tr th:only-of-type {\n",
              "        vertical-align: middle;\n",
              "    }\n",
              "\n",
              "    .dataframe tbody tr th {\n",
              "        vertical-align: top;\n",
              "    }\n",
              "\n",
              "    .dataframe thead th {\n",
              "        text-align: right;\n",
              "    }\n",
              "</style>\n",
              "<table border=\"1\" class=\"dataframe\">\n",
              "  <thead>\n",
              "    <tr style=\"text-align: right;\">\n",
              "      <th></th>\n",
              "      <th>Image Name</th>\n",
              "      <th>series length 1</th>\n",
              "      <th>series length 2</th>\n",
              "      <th>series length 3</th>\n",
              "      <th>series length 4</th>\n",
              "      <th>series length 5</th>\n",
              "      <th>series length 6</th>\n",
              "      <th>series length 7</th>\n",
              "      <th>series length 8</th>\n",
              "      <th>series length 9</th>\n",
              "      <th>series length 10</th>\n",
              "      <th>series length 11</th>\n",
              "      <th>series length 12</th>\n",
              "      <th>with message</th>\n",
              "    </tr>\n",
              "  </thead>\n",
              "  <tbody>\n",
              "    <tr>\n",
              "      <th>0</th>\n",
              "      <td>Image00001.tif</td>\n",
              "      <td>64987.0</td>\n",
              "      <td>32641.0</td>\n",
              "      <td>16370.0</td>\n",
              "      <td>8320.0</td>\n",
              "      <td>4002.0</td>\n",
              "      <td>2067.0</td>\n",
              "      <td>1065.0</td>\n",
              "      <td>541.0</td>\n",
              "      <td>241.0</td>\n",
              "      <td>140.0</td>\n",
              "      <td>77.0</td>\n",
              "      <td>32.0</td>\n",
              "      <td>1.0</td>\n",
              "    </tr>\n",
              "    <tr>\n",
              "      <th>1</th>\n",
              "      <td>Image00002.tif</td>\n",
              "      <td>64317.0</td>\n",
              "      <td>31807.0</td>\n",
              "      <td>15916.0</td>\n",
              "      <td>8071.0</td>\n",
              "      <td>4154.0</td>\n",
              "      <td>2173.0</td>\n",
              "      <td>1080.0</td>\n",
              "      <td>625.0</td>\n",
              "      <td>345.0</td>\n",
              "      <td>181.0</td>\n",
              "      <td>106.0</td>\n",
              "      <td>60.0</td>\n",
              "      <td>1.0</td>\n",
              "    </tr>\n",
              "    <tr>\n",
              "      <th>2</th>\n",
              "      <td>Image00003.tif</td>\n",
              "      <td>64315.0</td>\n",
              "      <td>31652.0</td>\n",
              "      <td>15960.0</td>\n",
              "      <td>8069.0</td>\n",
              "      <td>4144.0</td>\n",
              "      <td>2204.0</td>\n",
              "      <td>1217.0</td>\n",
              "      <td>565.0</td>\n",
              "      <td>323.0</td>\n",
              "      <td>183.0</td>\n",
              "      <td>99.0</td>\n",
              "      <td>52.0</td>\n",
              "      <td>1.0</td>\n",
              "    </tr>\n",
              "    <tr>\n",
              "      <th>3</th>\n",
              "      <td>Image00004.tif</td>\n",
              "      <td>64584.0</td>\n",
              "      <td>31639.0</td>\n",
              "      <td>15873.0</td>\n",
              "      <td>8088.0</td>\n",
              "      <td>4162.0</td>\n",
              "      <td>2128.0</td>\n",
              "      <td>1151.0</td>\n",
              "      <td>613.0</td>\n",
              "      <td>326.0</td>\n",
              "      <td>175.0</td>\n",
              "      <td>99.0</td>\n",
              "      <td>65.0</td>\n",
              "      <td>1.0</td>\n",
              "    </tr>\n",
              "    <tr>\n",
              "      <th>4</th>\n",
              "      <td>Image00005.tif</td>\n",
              "      <td>65677.0</td>\n",
              "      <td>32641.0</td>\n",
              "      <td>16470.0</td>\n",
              "      <td>8285.0</td>\n",
              "      <td>4159.0</td>\n",
              "      <td>2042.0</td>\n",
              "      <td>1040.0</td>\n",
              "      <td>450.0</td>\n",
              "      <td>253.0</td>\n",
              "      <td>124.0</td>\n",
              "      <td>52.0</td>\n",
              "      <td>24.0</td>\n",
              "      <td>1.0</td>\n",
              "    </tr>\n",
              "  </tbody>\n",
              "</table>\n",
              "</div>\n",
              "      <button class=\"colab-df-convert\" onclick=\"convertToInteractive('df-96c5cae0-ecc5-4907-8ebc-725e410fc0f3')\"\n",
              "              title=\"Convert this dataframe to an interactive table.\"\n",
              "              style=\"display:none;\">\n",
              "        \n",
              "  <svg xmlns=\"http://www.w3.org/2000/svg\" height=\"24px\"viewBox=\"0 0 24 24\"\n",
              "       width=\"24px\">\n",
              "    <path d=\"M0 0h24v24H0V0z\" fill=\"none\"/>\n",
              "    <path d=\"M18.56 5.44l.94 2.06.94-2.06 2.06-.94-2.06-.94-.94-2.06-.94 2.06-2.06.94zm-11 1L8.5 8.5l.94-2.06 2.06-.94-2.06-.94L8.5 2.5l-.94 2.06-2.06.94zm10 10l.94 2.06.94-2.06 2.06-.94-2.06-.94-.94-2.06-.94 2.06-2.06.94z\"/><path d=\"M17.41 7.96l-1.37-1.37c-.4-.4-.92-.59-1.43-.59-.52 0-1.04.2-1.43.59L10.3 9.45l-7.72 7.72c-.78.78-.78 2.05 0 2.83L4 21.41c.39.39.9.59 1.41.59.51 0 1.02-.2 1.41-.59l7.78-7.78 2.81-2.81c.8-.78.8-2.07 0-2.86zM5.41 20L4 18.59l7.72-7.72 1.47 1.35L5.41 20z\"/>\n",
              "  </svg>\n",
              "      </button>\n",
              "      \n",
              "  <style>\n",
              "    .colab-df-container {\n",
              "      display:flex;\n",
              "      flex-wrap:wrap;\n",
              "      gap: 12px;\n",
              "    }\n",
              "\n",
              "    .colab-df-convert {\n",
              "      background-color: #E8F0FE;\n",
              "      border: none;\n",
              "      border-radius: 50%;\n",
              "      cursor: pointer;\n",
              "      display: none;\n",
              "      fill: #1967D2;\n",
              "      height: 32px;\n",
              "      padding: 0 0 0 0;\n",
              "      width: 32px;\n",
              "    }\n",
              "\n",
              "    .colab-df-convert:hover {\n",
              "      background-color: #E2EBFA;\n",
              "      box-shadow: 0px 1px 2px rgba(60, 64, 67, 0.3), 0px 1px 3px 1px rgba(60, 64, 67, 0.15);\n",
              "      fill: #174EA6;\n",
              "    }\n",
              "\n",
              "    [theme=dark] .colab-df-convert {\n",
              "      background-color: #3B4455;\n",
              "      fill: #D2E3FC;\n",
              "    }\n",
              "\n",
              "    [theme=dark] .colab-df-convert:hover {\n",
              "      background-color: #434B5C;\n",
              "      box-shadow: 0px 1px 3px 1px rgba(0, 0, 0, 0.15);\n",
              "      filter: drop-shadow(0px 1px 2px rgba(0, 0, 0, 0.3));\n",
              "      fill: #FFFFFF;\n",
              "    }\n",
              "  </style>\n",
              "\n",
              "      <script>\n",
              "        const buttonEl =\n",
              "          document.querySelector('#df-96c5cae0-ecc5-4907-8ebc-725e410fc0f3 button.colab-df-convert');\n",
              "        buttonEl.style.display =\n",
              "          google.colab.kernel.accessAllowed ? 'block' : 'none';\n",
              "\n",
              "        async function convertToInteractive(key) {\n",
              "          const element = document.querySelector('#df-96c5cae0-ecc5-4907-8ebc-725e410fc0f3');\n",
              "          const dataTable =\n",
              "            await google.colab.kernel.invokeFunction('convertToInteractive',\n",
              "                                                     [key], {});\n",
              "          if (!dataTable) return;\n",
              "\n",
              "          const docLinkHtml = 'Like what you see? Visit the ' +\n",
              "            '<a target=\"_blank\" href=https://colab.research.google.com/notebooks/data_table.ipynb>data table notebook</a>'\n",
              "            + ' to learn more about interactive tables.';\n",
              "          element.innerHTML = '';\n",
              "          dataTable['output_type'] = 'display_data';\n",
              "          await google.colab.output.renderOutput(dataTable, element);\n",
              "          const docLink = document.createElement('div');\n",
              "          docLink.innerHTML = docLinkHtml;\n",
              "          element.appendChild(docLink);\n",
              "        }\n",
              "      </script>\n",
              "    </div>\n",
              "  </div>\n",
              "  "
            ]
          },
          "metadata": {},
          "execution_count": 45
        }
      ]
    },
    {
      "cell_type": "code",
      "source": [
        "# Создаём датасеты: в первом только серии с длинами выше 5, во втором серии со всеми длинами\n",
        "\n",
        "df_short = df.drop(columns = ['Image Name', \n",
        "                            'series length 1', 'series length 2', \n",
        "                            'series length 3', 'series length 4',\n",
        "                            'series length 5'])\n",
        "\n",
        "df_long = df.drop(columns = ['Image Name'])"
      ],
      "metadata": {
        "id": "hpTSdKyzfMRr"
      },
      "execution_count": null,
      "outputs": []
    },
    {
      "cell_type": "markdown",
      "source": [
        "## Опробуем классификатор LogicRegression на длинах выше 5 и на полном наборе и посмотрим, как изменится точность"
      ],
      "metadata": {
        "id": "iFNh7c8JaHed"
      }
    },
    {
      "cell_type": "code",
      "source": [
        "# Обучим классификатор LogisticRegression на длинах выше 5\n",
        "\n",
        "# Задаём зависимую переменную Y, и независимую X\n",
        "X = df_short.drop('with message', axis = 1)\n",
        "Y = df_short['with message']\n",
        "\n",
        "# Поделим обучающую и тестовую выборки 70/30\n",
        "X_train, X_test, Y_train, Y_test = train_test_split(X, Y, test_size = 0.3, random_state = 42)\n",
        "X_train.shape, X_test.shape\n",
        "\n",
        "# Нормализация\n",
        "Log = LogisticRegression()\n",
        "scaler = StandardScaler()\n",
        "X_train_M = scaler.fit_transform(X_train)\n",
        "X_test_M = scaler.transform(X_test)\n",
        "\n",
        "model_Log = LogisticRegression() \n",
        "model_Log.fit(X_train_M, Y_train)\n",
        "Y_Log = model_Log.predict(X_test_M)\n",
        "\n",
        "# Найдём f1_score и accuracy_score\n",
        "score_f1_1 = f1_score(Y_test, Y_Log)\n",
        "score_accuracy_1 = accuracy_score(Y_test, Y_Log)\n",
        "\n",
        "print('F1: ', score_f1_1)\n",
        "print('accuracy: ', score_accuracy_1)"
      ],
      "metadata": {
        "colab": {
          "base_uri": "https://localhost:8080/"
        },
        "id": "wHOhleXwYCox",
        "outputId": "bfd874cb-fb74-45f6-a0d7-d512fd575803"
      },
      "execution_count": null,
      "outputs": [
        {
          "output_type": "stream",
          "name": "stdout",
          "text": [
            "F1:  0.783625730994152\n",
            "accuracy:  0.7533333333333333\n"
          ]
        }
      ]
    },
    {
      "cell_type": "code",
      "source": [
        "# Обучим классификатор LogisticRegression на всех длинах\n",
        "\n",
        "# Задаём зависимую переменную Y, и независимую X\n",
        "X = df_long.drop('with message', axis = 1)\n",
        "Y = df_long['with message']\n",
        "\n",
        "# Поделим обучающую и тестовую выборки 70/30\n",
        "X_train, X_test, Y_train, Y_test = train_test_split(X, Y, test_size = 0.3, random_state = 42)\n",
        "X_train.shape, X_test.shape\n",
        "\n",
        "# Нормализация\n",
        "Log = LogisticRegression()\n",
        "scaler = StandardScaler()\n",
        "X_train_M = scaler.fit_transform(X_train)\n",
        "X_test_M = scaler.transform(X_test)\n",
        "\n",
        "model_Log = LogisticRegression() \n",
        "model_Log.fit(X_train_M, Y_train)\n",
        "Y_Log = model_Log.predict(X_test_M)\n",
        "\n",
        "\n",
        "# Найдём f1_score и accuracy_score\n",
        "score_f1_2 = f1_score(Y_test, Y_Log)\n",
        "score_accuracy_2 = accuracy_score(Y_test, Y_Log)\n",
        "\n",
        "print('F1: ', score_f1_2)\n",
        "print('accuracy: ', score_accuracy_2)"
      ],
      "metadata": {
        "colab": {
          "base_uri": "https://localhost:8080/"
        },
        "id": "RU93d6UOcn76",
        "outputId": "045d5196-471a-461b-bf9b-9ef502f0880c"
      },
      "execution_count": null,
      "outputs": [
        {
          "output_type": "stream",
          "name": "stdout",
          "text": [
            "F1:  0.8323353293413174\n",
            "accuracy:  0.8133333333333334\n"
          ]
        }
      ]
    },
    {
      "cell_type": "markdown",
      "source": [
        "При переходе с короткого на полный набор признаков, точность повысилась с 75 до 81 процентов"
      ],
      "metadata": {
        "id": "fL7JECHvbJiq"
      }
    },
    {
      "cell_type": "markdown",
      "source": [
        "## Опробуем классификатор SVC на длинах выше 5 и на полном наборе и посмотрим, как изменится точность"
      ],
      "metadata": {
        "id": "ybp3tgpldC4Z"
      }
    },
    {
      "cell_type": "code",
      "source": [
        "# Обучим классификатор LogisticRegression на длинах выше 5 \n",
        "\n",
        "# Задаём зависимую переменную Y, и независимую X\n",
        "X = df_short.drop('with message', axis = 1)\n",
        "Y = df_short['with message']\n",
        "\n",
        "# Поделим обучающую и тестовую выборки 70/30\n",
        "X_train, X_test, Y_train, Y_test = train_test_split(X, Y, test_size = 0.3, random_state = 42)\n",
        "X_train.shape, X_test.shape\n",
        "\n",
        "# Нормализация\n",
        "scale_features_mm = MinMaxScaler()\n",
        "X_train_new = scale_features_mm.fit_transform(X_train) \n",
        "X_test_new = scale_features_mm.fit_transform(X_test)\n",
        "\n",
        "model_SVC = SVC()\n",
        "model_SVC.fit(X_train_new, Y_train)\n",
        "Y_SVC = model_SVC.predict(X_test_new)\n",
        "\n",
        "# Найдём f1_score и accuracy_score\n",
        "score_f1_3 = f1_score(Y_test, Y_SVC)\n",
        "score_accuracy_3 = accuracy_score(Y_test, Y_SVC)\n",
        "\n",
        "print('F1: ', score_f1_3)\n",
        "print('accuracy: ', score_accuracy_3)"
      ],
      "metadata": {
        "colab": {
          "base_uri": "https://localhost:8080/"
        },
        "id": "nbEODSEHdSEq",
        "outputId": "8ee32196-7167-445c-c526-2af1034467c7"
      },
      "execution_count": null,
      "outputs": [
        {
          "output_type": "stream",
          "name": "stdout",
          "text": [
            "F1:  0.0\n",
            "accuracy:  0.49\n"
          ]
        }
      ]
    },
    {
      "cell_type": "code",
      "source": [
        "# Обучим классификатор SVC на всех длинах\n",
        "\n",
        "# Задаём зависимую переменную Y, и независимую X\n",
        "X = df_long.drop('with message', axis = 1)\n",
        "Y = df_long['with message']\n",
        "\n",
        "# Поделим обучающую и тестовую выборки 70/30\n",
        "X_train, X_test, Y_train, Y_test = train_test_split(X, Y, test_size = 0.3, random_state = 42)\n",
        "X_train.shape, X_test.shape\n",
        "\n",
        "# Нормализация\n",
        "scale_features_mm = MinMaxScaler()\n",
        "X_train_new = scale_features_mm.fit_transform(X_train) \n",
        "X_test_new = scale_features_mm.fit_transform(X_test)\n",
        "\n",
        "\n",
        "model_SVC = SVC()\n",
        "model_SVC.fit(X_train_new, Y_train)\n",
        "Y_SVC = model_SVC.predict(X_test_new)\n",
        "\n",
        "# Найдём f1_score и accuracy_score\n",
        "score_f1_4 = f1_score(Y_test, Y_SVC)\n",
        "score_accuracy_4 = accuracy_score(Y_test, Y_SVC)\n",
        "\n",
        "print('F1: ', score_f1_4)\n",
        "print('accuracy: ', score_accuracy_4)"
      ],
      "metadata": {
        "colab": {
          "base_uri": "https://localhost:8080/"
        },
        "id": "WiPq3r5leDGS",
        "outputId": "070fb8a3-3fbc-48c4-f34c-e3c8bba10063"
      },
      "execution_count": null,
      "outputs": [
        {
          "output_type": "stream",
          "name": "stdout",
          "text": [
            "F1:  0.34224598930481287\n",
            "accuracy:  0.59\n"
          ]
        }
      ]
    },
    {
      "cell_type": "markdown",
      "source": [
        "При переходе с короткого на полный набор признаков, точность повысилась с 45 до 63 процентов "
      ],
      "metadata": {
        "id": "fOPZVdyigwni"
      }
    },
    {
      "cell_type": "markdown",
      "source": [
        "## Опробуем классификатор Метод k-ближайших соседей (KNN) на длинах выше 5 и на полном наборе и посмотрим, как изменится точность"
      ],
      "metadata": {
        "id": "GwLDUo2Blo4L"
      }
    },
    {
      "cell_type": "code",
      "source": [
        "# Обучим классификатор KNN на длинах выше 5 \n",
        "\n",
        "# Задаём зависимую переменную Y, и независимую X\n",
        "X = df_short.drop('with message', axis = 1)\n",
        "Y = df_short['with message']\n",
        "\n",
        "# Поделим обучающую и тестовую выборки 70/30\n",
        "X_train, X_test, Y_train, Y_test = train_test_split(X, Y, test_size = 0.3, random_state = 42)\n",
        "X_train.shape, X_test.shape\n",
        "\n",
        "# Нормализация\n",
        "KNN = KNeighborsClassifier()\n",
        "scaler = StandardScaler()\n",
        "\n",
        "steps_KNN = [('normalizer', scaler), ('KNN', KNN)]\n",
        "pipe_KNN = Pipeline(steps_KNN)\n",
        "\n",
        "# Подбираем гиперпараметры\n",
        "params_KNN = \\\n",
        "     {'KNN__n_neighbors': np.arange(5, 50), \n",
        "     'KNN__weights': ['uniform', 'distance'], \n",
        "     'KNN__algorithm': ['auto', 'ball_tree', 'kd_tree', 'brute']}\n",
        "\n",
        "grid_search_KNN1 = GridSearchCV(pipe_KNN, params_KNN)\n",
        "grid_search_KNN1.fit(X_train, Y_train)\n",
        "grid_search_KNN1.best_params_"
      ],
      "metadata": {
        "colab": {
          "base_uri": "https://localhost:8080/"
        },
        "id": "wScO-aMBlnqT",
        "outputId": "fa3ee5ed-f32b-4b55-c590-43d780486743"
      },
      "execution_count": null,
      "outputs": [
        {
          "output_type": "execute_result",
          "data": {
            "text/plain": [
              "{'KNN__algorithm': 'auto', 'KNN__n_neighbors': 29, 'KNN__weights': 'distance'}"
            ]
          },
          "metadata": {},
          "execution_count": 51
        }
      ]
    },
    {
      "cell_type": "code",
      "source": [
        "# Обучаем модель с лучшими параметрами\n",
        "model_KNN = KNeighborsClassifier(algorithm = grid_search_KNN1.best_params_['KNN__algorithm'], \n",
        "                                 n_neighbors = grid_search_KNN1.best_params_['KNN__n_neighbors'], \n",
        "                                 weights = grid_search_KNN1.best_params_['KNN__weights'])\n",
        "model_KNN.fit(X_train, Y_train)\n",
        "Y_KNN = model_KNN.predict(X_test)\n",
        "\n",
        "# Найдём f1_score и accuracy_score\n",
        "score_f1_5 = f1_score(Y_test, Y_KNN)\n",
        "score_accuracy_5 = accuracy_score(Y_test, Y_KNN)\n",
        "\n",
        "print('F1: ', score_f1_5)\n",
        "print('accuracy: ', score_accuracy_5)"
      ],
      "metadata": {
        "colab": {
          "base_uri": "https://localhost:8080/"
        },
        "id": "JPStgCykmf4l",
        "outputId": "53268f65-7d70-407d-c029-11a70300fe3d"
      },
      "execution_count": null,
      "outputs": [
        {
          "output_type": "stream",
          "name": "stdout",
          "text": [
            "F1:  0.8046647230320699\n",
            "accuracy:  0.7766666666666666\n"
          ]
        }
      ]
    },
    {
      "cell_type": "code",
      "source": [
        "# Обучим классификатор KNN на всех длинах\n",
        "\n",
        "# Задаём зависимую переменную Y, и независимую X\n",
        "X = df_long.drop('with message', axis = 1)\n",
        "Y = df_long['with message']\n",
        "\n",
        "# Поделим обучающую и тестовую выборки 70/30\n",
        "X_train, X_test, Y_train, Y_test = train_test_split(X, Y, test_size = 0.3, random_state = 42)\n",
        "X_train.shape, X_test.shape\n",
        "\n",
        "# Нормализация\n",
        "KNN = KNeighborsClassifier()\n",
        "scaler = StandardScaler()\n",
        "\n",
        "steps_KNN = [('normalizer', scaler), ('KNN', KNN)]\n",
        "pipe_KNN = Pipeline(steps_KNN)\n",
        "\n",
        "# Подбираем гиперпараметры\n",
        "params_KNN = \\\n",
        "     {'KNN__n_neighbors': np.arange(5, 50), \n",
        "     'KNN__weights': ['uniform', 'distance'], \n",
        "     'KNN__algorithm': ['auto', 'ball_tree', 'kd_tree', 'brute']}\n",
        "\n",
        "grid_search_KNN1 = GridSearchCV(pipe_KNN, params_KNN)\n",
        "grid_search_KNN1.fit(X_train, Y_train)\n",
        "grid_search_KNN1.best_params_"
      ],
      "metadata": {
        "colab": {
          "base_uri": "https://localhost:8080/"
        },
        "id": "awJ9fIJ-mhdn",
        "outputId": "69d95e14-b5f9-4292-fe45-c7a0b60bd6d1"
      },
      "execution_count": null,
      "outputs": [
        {
          "output_type": "execute_result",
          "data": {
            "text/plain": [
              "{'KNN__algorithm': 'auto', 'KNN__n_neighbors': 16, 'KNN__weights': 'distance'}"
            ]
          },
          "metadata": {},
          "execution_count": 53
        }
      ]
    },
    {
      "cell_type": "code",
      "source": [
        "# Обучаем модель с лучшими параметрами\n",
        "model_KNN = KNeighborsClassifier(algorithm = grid_search_KNN1.best_params_['KNN__algorithm'], \n",
        "                                 n_neighbors = grid_search_KNN1.best_params_['KNN__n_neighbors'], \n",
        "                                 weights = grid_search_KNN1.best_params_['KNN__weights'])\n",
        "model_KNN.fit(X_train, Y_train)\n",
        "Y_KNN = model_KNN.predict(X_test)\n",
        "\n",
        "# Найдём f1_score и accuracy_score\n",
        "score_f1_6 = f1_score(Y_test, Y_KNN)\n",
        "score_accuracy_6 = accuracy_score(Y_test, Y_KNN)\n",
        "\n",
        "print('F1: ', score_f1_6)\n",
        "print('accuracy: ', score_accuracy_6)"
      ],
      "metadata": {
        "colab": {
          "base_uri": "https://localhost:8080/"
        },
        "id": "wtlG2r2UmNBH",
        "outputId": "8ee8a514-a446-423f-cab4-681b8176c55c"
      },
      "execution_count": null,
      "outputs": [
        {
          "output_type": "stream",
          "name": "stdout",
          "text": [
            "F1:  0.8823529411764707\n",
            "accuracy:  0.88\n"
          ]
        }
      ]
    },
    {
      "cell_type": "markdown",
      "source": [
        "При переходе с короткого на полный набор признаков, точность повысилась с 77,6 до 88 процентов"
      ],
      "metadata": {
        "id": "XmvUAH0ks1Xp"
      }
    },
    {
      "cell_type": "markdown",
      "source": [
        "## Опробуем классификатор RandomForest на длинах выше 5 и на полном наборе и посмотрим, как изменится точность"
      ],
      "metadata": {
        "id": "kCUnftg8s1qK"
      }
    },
    {
      "cell_type": "code",
      "source": [
        "# Обучим классификатор RandomForest на длинах выше 5 \n",
        "\n",
        "# Задаём зависимую переменную Y, и независимую X\n",
        "X = df_short.drop('with message', axis = 1)\n",
        "Y = df_short['with message']\n",
        "\n",
        "# Поделим обучающую и тестовую выборки 70/30\n",
        "X_train, X_test, Y_train, Y_test = train_test_split(X, Y, test_size = 0.3, random_state = 42)\n",
        "X_train.shape, X_test.shape\n",
        "\n",
        "# Нормализация\n",
        "RFC = RandomForestClassifier()\n",
        "scaler = StandardScaler()\n",
        "\n",
        "steps_RFC = [('normalizer', scaler), ('RFC', RFC)]\n",
        "pipe_RFC = Pipeline(steps_RFC)\n",
        "\n",
        "\n",
        "# Подбираем гиперпараметры\n",
        "params_RFC = \\\n",
        "     {'RFC__n_estimators': np.arange(10, 100),\n",
        "     'RFC__criterion': ['gini', 'entropy']}\n",
        "grid_search_RFC1 = GridSearchCV(pipe_RFC, params_RFC)\n",
        "grid_search_RFC1.fit(X_train, Y_train)\n",
        "grid_search_RFC1.best_params_"
      ],
      "metadata": {
        "colab": {
          "base_uri": "https://localhost:8080/"
        },
        "id": "17BSGgsetQEM",
        "outputId": "94ac820a-537a-4ba8-c504-69b0972e7dda"
      },
      "execution_count": null,
      "outputs": [
        {
          "output_type": "execute_result",
          "data": {
            "text/plain": [
              "{'RFC__criterion': 'entropy', 'RFC__n_estimators': 62}"
            ]
          },
          "metadata": {},
          "execution_count": 55
        }
      ]
    },
    {
      "cell_type": "code",
      "source": [
        "# Обучаем модель с лучшими параметрами\n",
        "\n",
        "model_RFC = RandomForestClassifier(n_estimators = grid_search_RFC1.best_params_['RFC__n_estimators'], \n",
        "                                 criterion = grid_search_RFC1.best_params_['RFC__criterion'])\n",
        "model_RFC.fit(X_train, Y_train)\n",
        "Y_RFC = model_RFC.predict(X_test)\n",
        "\n",
        "# Найдём f1_score и accuracy_score\n",
        "score_f1_5 = f1_score(Y_test, Y_KNN)\n",
        "score_accuracy_5 = accuracy_score(Y_test, Y_KNN)\n",
        "\n",
        "# Найдём f1_score и accuracy_score\n",
        "score_f1_7 = f1_score(Y_test, Y_RFC)\n",
        "score_accuracy_7 = accuracy_score(Y_test, Y_RFC)\n",
        "\n",
        "print('F1: ', score_f1_7)\n",
        "print('accuracy: ', score_accuracy_7)"
      ],
      "metadata": {
        "colab": {
          "base_uri": "https://localhost:8080/"
        },
        "id": "xvuKHzXavIx7",
        "outputId": "c3cd5d48-f64b-41ce-f3ef-032b405e851c"
      },
      "execution_count": null,
      "outputs": [
        {
          "output_type": "stream",
          "name": "stdout",
          "text": [
            "F1:  0.7875000000000001\n",
            "accuracy:  0.7733333333333333\n"
          ]
        }
      ]
    },
    {
      "cell_type": "code",
      "source": [
        "# Обучим классификатор RandomForest на всех длинах\n",
        "\n",
        "# Задаём зависимую переменную Y, и независимую X\n",
        "X = df_long.drop('with message', axis = 1)\n",
        "Y = df_long['with message']\n",
        "\n",
        "# Поделим обучающую и тестовую выборки 70/30\n",
        "X_train, X_test, Y_train, Y_test = train_test_split(X, Y, test_size = 0.3, random_state = 42)\n",
        "X_train.shape, X_test.shape\n",
        "\n",
        "# Нормализация\n",
        "RFC = RandomForestClassifier()\n",
        "scaler = StandardScaler()\n",
        "\n",
        "steps_RFC = [('normalizer', scaler), ('RFC', RFC)]\n",
        "pipe_RFC = Pipeline(steps_RFC)\n",
        "\n",
        "\n",
        "# Подбираем гиперпараметры\n",
        "params_RFC = \\\n",
        "     {'RFC__n_estimators': np.arange(10, 100),\n",
        "     'RFC__criterion': ['gini', 'entropy']}\n",
        "grid_search_RFC2 = GridSearchCV(pipe_RFC, params_RFC)\n",
        "grid_search_RFC2.fit(X_train, Y_train)\n",
        "grid_search_RFC2.best_params_"
      ],
      "metadata": {
        "colab": {
          "base_uri": "https://localhost:8080/"
        },
        "id": "faHrKEpIwPdL",
        "outputId": "558916ec-474a-41f9-8399-aa41c16154a7"
      },
      "execution_count": null,
      "outputs": [
        {
          "output_type": "execute_result",
          "data": {
            "text/plain": [
              "{'RFC__criterion': 'entropy', 'RFC__n_estimators': 97}"
            ]
          },
          "metadata": {},
          "execution_count": 57
        }
      ]
    },
    {
      "cell_type": "code",
      "source": [
        "# Обучаем модель с лучшими параметрами\n",
        "\n",
        "model_RFC = RandomForestClassifier(n_estimators = grid_search_RFC2.best_params_['RFC__n_estimators'], \n",
        "                                 criterion = grid_search_RFC2.best_params_['RFC__criterion'])\n",
        "model_RFC.fit(X_train, Y_train)\n",
        "Y_RFC = model_RFC.predict(X_test)\n",
        "\n",
        "# Найдём f1_score и accuracy_score\n",
        "score_f1_5 = f1_score(Y_test, Y_KNN)\n",
        "score_accuracy_5 = accuracy_score(Y_test, Y_KNN)\n",
        "\n",
        "# Найдём f1_score и accuracy_score\n",
        "score_f1_8 = f1_score(Y_test, Y_RFC)\n",
        "score_accuracy_8 = accuracy_score(Y_test, Y_RFC)\n",
        "\n",
        "print('F1: ', score_f1_8)\n",
        "print('accuracy: ', score_accuracy_8)"
      ],
      "metadata": {
        "colab": {
          "base_uri": "https://localhost:8080/"
        },
        "id": "xEhJg5k2wPzE",
        "outputId": "bac0f101-9b1d-46d9-e3b4-76868fbeab73"
      },
      "execution_count": null,
      "outputs": [
        {
          "output_type": "stream",
          "name": "stdout",
          "text": [
            "F1:  0.8614457831325301\n",
            "accuracy:  0.8466666666666667\n"
          ]
        }
      ]
    },
    {
      "cell_type": "markdown",
      "source": [
        "При переходе с короткого на полный набор признаков, точность повысилась с 77 до 85 процентов"
      ],
      "metadata": {
        "id": "vrHkZy-pwg3H"
      }
    },
    {
      "cell_type": "markdown",
      "source": [
        "# Зависимость точности от заполненности контейнера"
      ],
      "metadata": {
        "id": "UmVv4AUpwn_z"
      }
    },
    {
      "cell_type": "code",
      "source": [
        "# Классификатор RandomForestClassifier на полном наборе принаков\n",
        "\n",
        "Q = []\n",
        "Accur = []\n",
        "for percent in range(20, 110, 10):\n",
        "    df_name = '/content/drive/MyDrive/LSB_' + str(percent) + '.csv'\n",
        "    df = pd.read_csv(df_name)\n",
        "\n",
        "    df_new = df.drop(columns = ['Image Name'])    \n",
        "    \n",
        "    # Задаём зависимую переменную Y, и независимую X\n",
        "    X = df_new.drop('with message', axis = 1)\n",
        "    Y = df_new['with message']\n",
        "    \n",
        "    # Поделим обучающую и тестовую выборки 70/30\n",
        "    X_train, X_test, Y_train, Y_test = train_test_split(X, Y, test_size = 0.3, random_state = 42)\n",
        "    X_train.shape, X_test.shape\n",
        "    \n",
        "    # Нормализуем данные\n",
        "    scale_features_mm = MinMaxScaler()\n",
        "    X_train_new = scale_features_mm.fit_transform(X_train) \n",
        "    X_test_new = scale_features_mm.fit_transform(X_test)\n",
        "\n",
        "        \n",
        "    model_RFC = RandomForestClassifier(n_estimators = grid_search_RFC2.best_params_['RFC__n_estimators'], \n",
        "                                 criterion = grid_search_RFC2.best_params_['RFC__criterion'])\n",
        "\n",
        "    model_RFC.fit(X_train, Y_train)\n",
        "    Y_RFC = model_RFC.predict(X_test)\n",
        "\n",
        "    Q.append(percent)\n",
        "    Accur.append(round(accuracy_score(Y_test, Y_RFC), 6))"
      ],
      "metadata": {
        "id": "6i_8c9YZwmmU"
      },
      "execution_count": null,
      "outputs": []
    },
    {
      "cell_type": "code",
      "source": [
        "print(Q)    \n",
        "print(Accur)"
      ],
      "metadata": {
        "colab": {
          "base_uri": "https://localhost:8080/"
        },
        "id": "W8zIzHmGxGCm",
        "outputId": "b656e093-41f6-4a4c-cd18-87abce1fb942"
      },
      "execution_count": null,
      "outputs": [
        {
          "output_type": "stream",
          "name": "stdout",
          "text": [
            "[20, 30, 40, 50, 60, 70, 80, 90, 100]\n",
            "[0.633333, 0.68, 0.723333, 0.753333, 0.793333, 0.85, 0.886667, 0.916667, 0.926667]\n"
          ]
        }
      ]
    },
    {
      "cell_type": "code",
      "source": [
        "plt.plot(Accur, Q)\n",
        "plt.title('точность модели')\n",
        "plt.ylabel('container fullness')\n",
        "plt.xlabel('accuracy')\n",
        "plt.legend(['train'], loc = 'upper left')\n",
        "plt.show"
      ],
      "metadata": {
        "colab": {
          "base_uri": "https://localhost:8080/",
          "height": 312
        },
        "id": "hvOiOFAmxK3O",
        "outputId": "9d4533ce-f6c7-49ca-aaf0-7c4b3f63a746"
      },
      "execution_count": null,
      "outputs": [
        {
          "output_type": "execute_result",
          "data": {
            "text/plain": [
              "<function matplotlib.pyplot.show(*args, **kw)>"
            ]
          },
          "metadata": {},
          "execution_count": 74
        },
        {
          "output_type": "display_data",
          "data": {
            "text/plain": [
              "<Figure size 432x288 with 1 Axes>"
            ],
            "image/png": "[encoded data removed]"
          },
          "metadata": {
            "needs_background": "light"
          }
        }
      ]
    },
    {
      "cell_type": "markdown",
      "source": [
        "## Как видно из графика, при увеличении уровня заполненности точность классификации возроста"
      ],
      "metadata": {
        "id": "EHc2RBYZvm6r"
      }
    }
  ]
}