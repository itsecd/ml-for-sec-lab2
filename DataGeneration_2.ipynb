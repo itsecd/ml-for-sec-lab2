{
 "cells": [
  {
   "cell_type": "code",
   "execution_count": 316,
   "metadata": {},
   "outputs": [],
   "source": [
    "import numpy as np\n",
    "import matplotlib.pyplot as plt\n",
    "import cv2\n",
    "from glob import glob\n",
    "from tqdm import tqdm"
   ]
  },
  {
   "cell_type": "code",
   "execution_count": 310,
   "metadata": {},
   "outputs": [],
   "source": [
    "def get_1_binary_plane(im):\n",
    "    return np.bitwise_and(im, 1)\n",
    "\n",
    "\n",
    "def insert_noise(im, idx, noise):\n",
    "    im_flat = im.flatten().copy()\n",
    "    chosen_pix = im_flat[idx]\n",
    "    np.bitwise_and(chosen_pix, 254, out=chosen_pix)\n",
    "    np.bitwise_or(chosen_pix, noise, out=chosen_pix)\n",
    "    im_flat[idx] = chosen_pix\n",
    "    return im_flat.reshape(im.shape)\n",
    "\n",
    "\n",
    "def load(im_path):\n",
    "    im = cv2.imread(im_path)[..., 0]  # Remove redundant channels\n",
    "    return cv2.resize(im, (257, 257))  # Normalize size\n",
    "\n",
    "\n",
    "def extract_features(im):\n",
    "    assert im.shape == (257, 257), f'Image has wrong size. Expected (257, 257), but received {im.shape}'\n",
    "    im_plane = get_1_binary_plane(im)\n",
    "    fft = np.fft.fft2(im_plane / np.sum(im_plane))  # Normalize total energy\n",
    "    log_magnitude = np.log(np.abs(fft) + 1e-8)  # Adding small constant to avoid Nan in log\n",
    "    features = (log_magnitude.mean(axis=0) + log_magnitude.mean(axis=1)) / 2\n",
    "    return features[:257 // 2]  # Return half due to symmetry\n",
    "\n",
    "\n",
    "def extract_features_tqdm(imgs):\n",
    "    features = []\n",
    "    for im in tqdm(imgs):\n",
    "        features.append(extract_features(im))\n",
    "    return features"
   ]
  },
  {
   "cell_type": "code",
   "execution_count": 311,
   "metadata": {},
   "outputs": [],
   "source": [
    "def corrupt_images(imgs, q=0.2):\n",
    "    corr_imgs = []\n",
    "    for im in tqdm(imgs):\n",
    "        n = int(im.size * q)\n",
    "        noise = np.random.randint(0, 2, size=n, dtype='uint8')\n",
    "        idx = np.random.permutation(im.size)[:n]\n",
    "        corrupted_image = insert_noise(im, idx, noise)\n",
    "        corr_imgs.append(corrupted_image)\n",
    "    return corr_imgs\n",
    "\n",
    "\n",
    "def corrupt_and_extractf(im_files, qs: list):\n",
    "    imgs = list(map(load, im_files))\n",
    "    data = {}\n",
    "    for q in qs:\n",
    "        corr_imgs = corrupt_images(imgs, q)\n",
    "        features = extract_features_tqdm(corr_imgs)\n",
    "        print(f'Finished for q={q}')\n",
    "        data[q] = features\n",
    "    return data"
   ]
  },
  {
   "cell_type": "code",
   "execution_count": 312,
   "metadata": {},
   "outputs": [],
   "source": [
    "im_files = glob('im_data/*.tif')"
   ]
  },
  {
   "cell_type": "code",
   "execution_count": 315,
   "metadata": {},
   "outputs": [
    {
     "name": "stderr",
     "output_type": "stream",
     "text": [
      "100%|██████████| 500/500 [00:00<00:00, 611.21it/s]\n",
      "100%|██████████| 500/500 [00:03<00:00, 165.13it/s]\n"
     ]
    },
    {
     "name": "stdout",
     "output_type": "stream",
     "text": [
      "Finished for q=0.2\n"
     ]
    },
    {
     "name": "stderr",
     "output_type": "stream",
     "text": [
      "100%|██████████| 500/500 [00:00<00:00, 681.20it/s]\n",
      "100%|██████████| 500/500 [00:03<00:00, 165.34it/s]\n"
     ]
    },
    {
     "name": "stdout",
     "output_type": "stream",
     "text": [
      "Finished for q=0.4\n"
     ]
    },
    {
     "name": "stderr",
     "output_type": "stream",
     "text": [
      "100%|██████████| 500/500 [00:00<00:00, 639.39it/s]\n",
      "100%|██████████| 500/500 [00:02<00:00, 167.22it/s]\n"
     ]
    },
    {
     "name": "stdout",
     "output_type": "stream",
     "text": [
      "Finished for q=0.6\n"
     ]
    },
    {
     "name": "stderr",
     "output_type": "stream",
     "text": [
      "100%|██████████| 500/500 [00:00<00:00, 611.25it/s]\n",
      "100%|██████████| 500/500 [00:02<00:00, 167.22it/s]\n"
     ]
    },
    {
     "name": "stdout",
     "output_type": "stream",
     "text": [
      "Finished for q=0.8\n"
     ]
    },
    {
     "name": "stderr",
     "output_type": "stream",
     "text": [
      "100%|██████████| 500/500 [00:00<00:00, 570.76it/s]\n",
      "100%|██████████| 500/500 [00:02<00:00, 166.78it/s]"
     ]
    },
    {
     "name": "stdout",
     "output_type": "stream",
     "text": [
      "Finished for q=1.0\n"
     ]
    },
    {
     "name": "stderr",
     "output_type": "stream",
     "text": [
      "\n"
     ]
    }
   ],
   "source": [
    "data = corrupt_and_extractf(im_files[:len(im_files) // 2], qs=[0.2, 0.4, 0.6, 0.8, 1.0])"
   ]
  },
  {
   "cell_type": "code",
   "execution_count": 317,
   "metadata": {},
   "outputs": [],
   "source": [
    "noncorr_imgs = list(map(load, im_files[len(im_files) // 2:]))"
   ]
  },
  {
   "cell_type": "code",
   "execution_count": 318,
   "metadata": {},
   "outputs": [
    {
     "name": "stderr",
     "output_type": "stream",
     "text": [
      "100%|██████████| 500/500 [00:03<00:00, 157.03it/s]\n"
     ]
    }
   ],
   "source": [
    "noncorr_imgs_features = extract_features_tqdm(noncorr_imgs)"
   ]
  },
  {
   "cell_type": "code",
   "execution_count": 322,
   "metadata": {},
   "outputs": [],
   "source": [
    "# Add non corrupt features and labels\n",
    "upd_data = {}\n",
    "Y = np.array([0] * (len(im_files) // 2) + [1] * (len(im_files) - len(im_files) // 2))\n",
    "for q, corr_features in data.items():\n",
    "    upd_data[q] = (\n",
    "        np.stack(corr_features + noncorr_imgs_features, axis=0),\n",
    "        Y\n",
    "    )"
   ]
  },
  {
   "cell_type": "code",
   "execution_count": 323,
   "metadata": {},
   "outputs": [],
   "source": [
    "# Save data\n",
    "for q, (features, y) in upd_data.items():\n",
    "    np.save(f'features_data/features_{q}.npy', features.astype('float32'))\n",
    "    np.save(f'features_data/labels_{q}.npy', y.astype('int32'))"
   ]
  },
  {
   "cell_type": "markdown",
   "metadata": {},
   "source": [
    "## Do premature test"
   ]
  },
  {
   "cell_type": "code",
   "execution_count": 324,
   "metadata": {},
   "outputs": [],
   "source": [
    "from sklearn.model_selection import train_test_split\n",
    "from sklearn.linear_model import LogisticRegression\n",
    "from sklearn.metrics import classification_report"
   ]
  },
  {
   "cell_type": "code",
   "execution_count": 343,
   "metadata": {},
   "outputs": [],
   "source": [
    "X = np.load('features_data/features_0.2.npy')\n",
    "Y = np.load('features_data/labels_0.2.npy')"
   ]
  },
  {
   "cell_type": "code",
   "execution_count": 344,
   "metadata": {},
   "outputs": [
    {
     "data": {
      "text/plain": [
       "(1000, 128)"
      ]
     },
     "execution_count": 344,
     "metadata": {},
     "output_type": "execute_result"
    }
   ],
   "source": [
    "X.shape"
   ]
  },
  {
   "cell_type": "code",
   "execution_count": 349,
   "metadata": {},
   "outputs": [],
   "source": [
    "X_train, X_test, y_train, y_test = train_test_split(X, Y, test_size=0.3)"
   ]
  },
  {
   "cell_type": "code",
   "execution_count": 350,
   "metadata": {},
   "outputs": [],
   "source": [
    "model = LogisticRegression(max_iter=1000, solver='lbfgs').fit(X_train, y_train)"
   ]
  },
  {
   "cell_type": "code",
   "execution_count": 351,
   "metadata": {},
   "outputs": [],
   "source": [
    "preds = model.predict(X_test)"
   ]
  },
  {
   "cell_type": "code",
   "execution_count": 352,
   "metadata": {},
   "outputs": [
    {
     "name": "stdout",
     "output_type": "stream",
     "text": [
      "              precision    recall  f1-score   support\n",
      "\n",
      "           0       0.61      0.81      0.70       140\n",
      "           1       0.77      0.56      0.64       160\n",
      "\n",
      "    accuracy                           0.67       300\n",
      "   macro avg       0.69      0.68      0.67       300\n",
      "weighted avg       0.70      0.67      0.67       300\n",
      "\n"
     ]
    }
   ],
   "source": [
    "# Seems to be working\n",
    "print(classification_report(y_test, preds))"
   ]
  }
 ],
 "metadata": {
  "kernelspec": {
   "display_name": "Python 3.9.13 ('diffusion')",
   "language": "python",
   "name": "python3"
  },
  "language_info": {
   "codemirror_mode": {
    "name": "ipython",
    "version": 3
   },
   "file_extension": ".py",
   "mimetype": "text/x-python",
   "name": "python",
   "nbconvert_exporter": "python",
   "pygments_lexer": "ipython3",
   "version": "3.9.13"
  },
  "orig_nbformat": 4,
  "vscode": {
   "interpreter": {
    "hash": "9e204cb833e5496fa5a3e3a05087f5b5db96a8a9af38bda46e528179545f5fe8"
   }
  }
 },
 "nbformat": 4,
 "nbformat_minor": 2
}
